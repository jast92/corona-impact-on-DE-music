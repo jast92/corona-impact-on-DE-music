{
 "cells": [
  {
   "cell_type": "code",
   "execution_count": 4,
   "metadata": {},
   "outputs": [
    {
     "ename": "AttributeError",
     "evalue": "module 'sys' has no attribute 'setdefaultencoding'",
     "output_type": "error",
     "traceback": [
      "\u001b[1;31m---------------------------------------------------------------------------\u001b[0m",
      "\u001b[1;31mAttributeError\u001b[0m                            Traceback (most recent call last)",
      "\u001b[1;32m<ipython-input-4-0e22910fe407>\u001b[0m in \u001b[0;36m<module>\u001b[1;34m\u001b[0m\n\u001b[0;32m     13\u001b[0m \u001b[1;31m#reload(sys)\u001b[0m\u001b[1;33m\u001b[0m\u001b[1;33m\u001b[0m\u001b[1;33m\u001b[0m\u001b[0m\n\u001b[0;32m     14\u001b[0m \u001b[1;31m#sys.setdefaultencoding(\"utf-8\")\u001b[0m\u001b[1;33m\u001b[0m\u001b[1;33m\u001b[0m\u001b[1;33m\u001b[0m\u001b[0m\n\u001b[1;32m---> 15\u001b[1;33m \u001b[0msys\u001b[0m\u001b[1;33m.\u001b[0m\u001b[0msetdefaultencoding\u001b[0m\u001b[1;33m(\u001b[0m\u001b[1;33m)\u001b[0m\u001b[1;33m\u001b[0m\u001b[1;33m\u001b[0m\u001b[0m\n\u001b[0m",
      "\u001b[1;31mAttributeError\u001b[0m: module 'sys' has no attribute 'setdefaultencoding'"
     ]
    }
   ],
   "source": [
    "import requests\n",
    "from requests import get\n",
    "from bs4 import BeautifulSoup as bs\n",
    "import re\n",
    "import pandas as pd\n",
    "import numpy as np\n",
    "from tqdm import tqdm\n",
    "\n",
    "from time import sleep\n",
    "from random import randint\n",
    "\n",
    "import sys\n",
    "#reload(sys)\n",
    "#sys.setdefaultencoding(\"utf-8\")\n",
    "sys.setdefaultencoding()"
   ]
  },
  {
   "cell_type": "code",
   "execution_count": 118,
   "metadata": {},
   "outputs": [],
   "source": [
    "rank_current = []\n",
    "artist = []\n",
    "title = []\n",
    "label = []\n",
    "incharts = []\n",
    "peak = []"
   ]
  },
  {
   "cell_type": "code",
   "execution_count": 119,
   "metadata": {},
   "outputs": [],
   "source": [
    "url = \"https://www.offiziellecharts.de/charts/single/for-date-1512165617000\""
   ]
  },
  {
   "cell_type": "code",
   "execution_count": 120,
   "metadata": {},
   "outputs": [
    {
     "data": {
      "text/plain": [
       "200"
      ]
     },
     "execution_count": 120,
     "metadata": {},
     "output_type": "execute_result"
    }
   ],
   "source": [
    "requests.get(url).status_code"
   ]
  },
  {
   "cell_type": "code",
   "execution_count": 121,
   "metadata": {},
   "outputs": [],
   "source": [
    "r = requests.get(url)"
   ]
  },
  {
   "cell_type": "code",
   "execution_count": 122,
   "metadata": {},
   "outputs": [],
   "source": [
    "page = requests.get(url)\n",
    "soup = bs(page.content, parser=\"html5lib\")"
   ]
  },
  {
   "cell_type": "code",
   "execution_count": 123,
   "metadata": {},
   "outputs": [
    {
     "name": "stdout",
     "output_type": "stream",
     "text": [
      "Top 100 Songs from 01.12.2017 - 07.12.2017.\n"
     ]
    }
   ],
   "source": [
    "#finding out the start and end date of the top 100 songs list\n",
    "periodhelp = soup.find_all('strong')\n",
    "\n",
    "weekdates = []\n",
    "for date in periodhelp:\n",
    "    weekdates.append(date.text)\n",
    "    \n",
    "print(f\"Top 100 Songs from {weekdates[0]} - {weekdates[1]}.\")\n"
   ]
  },
  {
   "cell_type": "code",
   "execution_count": 124,
   "metadata": {},
   "outputs": [],
   "source": [
    "#getting list of current rank\n",
    "\n",
    "rankc_help = soup.find_all('span', {'class' : 'this-week'})\n",
    "rank_current = [int(r.text) for r in rankc_help]"
   ]
  },
  {
   "cell_type": "code",
   "execution_count": 125,
   "metadata": {},
   "outputs": [],
   "source": [
    "#getting list of artists\n",
    "\n",
    "artist_help = soup.find_all('span', {'class' : 'info-artist'})\n",
    "artist = [r.text for r in artist_help]"
   ]
  },
  {
   "cell_type": "code",
   "execution_count": 126,
   "metadata": {},
   "outputs": [],
   "source": [
    "#getting list of titles\n",
    "\n",
    "title_help = soup.find_all('span', {'class' : 'info-title'})\n",
    "title = [r.text for r in title_help]"
   ]
  },
  {
   "cell_type": "code",
   "execution_count": 127,
   "metadata": {},
   "outputs": [],
   "source": [
    "#getting list of labels\n",
    "\n",
    "label_help = soup.find_all('span', {'class' : 'info-label'})\n",
    "label = [r.text for r in label_help]"
   ]
  },
  {
   "cell_type": "code",
   "execution_count": 128,
   "metadata": {},
   "outputs": [],
   "source": [
    "#getting list of in charts information\n",
    "\n",
    "incharts_help = soup.find_all('span', {'class' : 'plus-data'})\n",
    "incharts = [r.text.split()[2] for r in incharts_help if len(r.text.split()) > 2]"
   ]
  },
  {
   "cell_type": "code",
   "execution_count": 129,
   "metadata": {},
   "outputs": [],
   "source": [
    "#getting list of overall peak position information\n",
    "\n",
    "peak_help = soup.find_all('span', {'class' : 'plus-data'})\n",
    "peak = [r.text.split()[1] for r in peak_help if len(r.text.split()) < 3]"
   ]
  },
  {
   "cell_type": "code",
   "execution_count": 130,
   "metadata": {},
   "outputs": [],
   "source": [
    "dict_help = {'current_rank': rank_current,\n",
    "             'artist': artist,\n",
    "             'title': title,\n",
    "             'label': label,\n",
    "             'in_charts': incharts,\n",
    "             'peak': peak,\n",
    "            }"
   ]
  },
  {
   "cell_type": "code",
   "execution_count": 131,
   "metadata": {},
   "outputs": [
    {
     "data": {
      "text/html": [
       "<div>\n",
       "<style scoped>\n",
       "    .dataframe tbody tr th:only-of-type {\n",
       "        vertical-align: middle;\n",
       "    }\n",
       "\n",
       "    .dataframe tbody tr th {\n",
       "        vertical-align: top;\n",
       "    }\n",
       "\n",
       "    .dataframe thead th {\n",
       "        text-align: right;\n",
       "    }\n",
       "</style>\n",
       "<table border=\"1\" class=\"dataframe\">\n",
       "  <thead>\n",
       "    <tr style=\"text-align: right;\">\n",
       "      <th></th>\n",
       "      <th>current_rank</th>\n",
       "      <th>artist</th>\n",
       "      <th>title</th>\n",
       "      <th>label</th>\n",
       "      <th>in_charts</th>\n",
       "      <th>peak</th>\n",
       "      <th>weekbegin</th>\n",
       "      <th>weekend</th>\n",
       "      <th>year</th>\n",
       "      <th>month</th>\n",
       "    </tr>\n",
       "  </thead>\n",
       "  <tbody>\n",
       "    <tr>\n",
       "      <th>0</th>\n",
       "      <td>1</td>\n",
       "      <td>Bausa</td>\n",
       "      <td>Was du Liebe nennst</td>\n",
       "      <td>Warner Music Germany</td>\n",
       "      <td>9</td>\n",
       "      <td>1</td>\n",
       "      <td>2017-12-01</td>\n",
       "      <td>2017-12-07</td>\n",
       "      <td>2017</td>\n",
       "      <td>12</td>\n",
       "    </tr>\n",
       "    <tr>\n",
       "      <th>1</th>\n",
       "      <td>2</td>\n",
       "      <td>Camila Cabello feat. Young Thug</td>\n",
       "      <td>Havana</td>\n",
       "      <td>Epic</td>\n",
       "      <td>15</td>\n",
       "      <td>2</td>\n",
       "      <td>2017-12-01</td>\n",
       "      <td>2017-12-07</td>\n",
       "      <td>2017</td>\n",
       "      <td>12</td>\n",
       "    </tr>\n",
       "    <tr>\n",
       "      <th>2</th>\n",
       "      <td>3</td>\n",
       "      <td>Ed Sheeran</td>\n",
       "      <td>Perfect</td>\n",
       "      <td>Atlantic</td>\n",
       "      <td>18</td>\n",
       "      <td>3</td>\n",
       "      <td>2017-12-01</td>\n",
       "      <td>2017-12-07</td>\n",
       "      <td>2017</td>\n",
       "      <td>12</td>\n",
       "    </tr>\n",
       "    <tr>\n",
       "      <th>3</th>\n",
       "      <td>4</td>\n",
       "      <td>Justin Bieber + BloodPop®</td>\n",
       "      <td>Friends</td>\n",
       "      <td>Republic Records</td>\n",
       "      <td>15</td>\n",
       "      <td>4</td>\n",
       "      <td>2017-12-01</td>\n",
       "      <td>2017-12-07</td>\n",
       "      <td>2017</td>\n",
       "      <td>12</td>\n",
       "    </tr>\n",
       "    <tr>\n",
       "      <th>4</th>\n",
       "      <td>5</td>\n",
       "      <td>Post Malone feat. 21 Savage</td>\n",
       "      <td>Rockstar</td>\n",
       "      <td>Universal</td>\n",
       "      <td>11</td>\n",
       "      <td>2</td>\n",
       "      <td>2017-12-01</td>\n",
       "      <td>2017-12-07</td>\n",
       "      <td>2017</td>\n",
       "      <td>12</td>\n",
       "    </tr>\n",
       "    <tr>\n",
       "      <th>...</th>\n",
       "      <td>...</td>\n",
       "      <td>...</td>\n",
       "      <td>...</td>\n",
       "      <td>...</td>\n",
       "      <td>...</td>\n",
       "      <td>...</td>\n",
       "      <td>...</td>\n",
       "      <td>...</td>\n",
       "      <td>...</td>\n",
       "      <td>...</td>\n",
       "    </tr>\n",
       "    <tr>\n",
       "      <th>95</th>\n",
       "      <td>96</td>\n",
       "      <td>Helene Fischer</td>\n",
       "      <td>Achterbahn</td>\n",
       "      <td>Universal Domestic Polydor</td>\n",
       "      <td>7</td>\n",
       "      <td>10</td>\n",
       "      <td>2017-12-01</td>\n",
       "      <td>2017-12-07</td>\n",
       "      <td>2017</td>\n",
       "      <td>12</td>\n",
       "    </tr>\n",
       "    <tr>\n",
       "      <th>96</th>\n",
       "      <td>97</td>\n",
       "      <td>Kollegah &amp; Farid Bang</td>\n",
       "      <td>Sturmmaske auf (Intro)</td>\n",
       "      <td>Banger Musik</td>\n",
       "      <td>9</td>\n",
       "      <td>1</td>\n",
       "      <td>2017-12-01</td>\n",
       "      <td>2017-12-07</td>\n",
       "      <td>2017</td>\n",
       "      <td>12</td>\n",
       "    </tr>\n",
       "    <tr>\n",
       "      <th>97</th>\n",
       "      <td>98</td>\n",
       "      <td>Chris Brown</td>\n",
       "      <td>Questions</td>\n",
       "      <td>RCA International</td>\n",
       "      <td>10</td>\n",
       "      <td>74</td>\n",
       "      <td>2017-12-01</td>\n",
       "      <td>2017-12-07</td>\n",
       "      <td>2017</td>\n",
       "      <td>12</td>\n",
       "    </tr>\n",
       "    <tr>\n",
       "      <th>98</th>\n",
       "      <td>99</td>\n",
       "      <td>Ufo361</td>\n",
       "      <td>Nice Girl 2.0</td>\n",
       "      <td>Stay High</td>\n",
       "      <td>24</td>\n",
       "      <td>16</td>\n",
       "      <td>2017-12-01</td>\n",
       "      <td>2017-12-07</td>\n",
       "      <td>2017</td>\n",
       "      <td>12</td>\n",
       "    </tr>\n",
       "    <tr>\n",
       "      <th>99</th>\n",
       "      <td>100</td>\n",
       "      <td>Jason Derulo feat. Nicki Minaj &amp; Ty Dolla $ign</td>\n",
       "      <td>Swalla</td>\n",
       "      <td>Beluga Heights</td>\n",
       "      <td>39</td>\n",
       "      <td>4</td>\n",
       "      <td>2017-12-01</td>\n",
       "      <td>2017-12-07</td>\n",
       "      <td>2017</td>\n",
       "      <td>12</td>\n",
       "    </tr>\n",
       "  </tbody>\n",
       "</table>\n",
       "<p>100 rows × 10 columns</p>\n",
       "</div>"
      ],
      "text/plain": [
       "    current_rank                                          artist  \\\n",
       "0              1                                           Bausa   \n",
       "1              2                 Camila Cabello feat. Young Thug   \n",
       "2              3                                      Ed Sheeran   \n",
       "3              4                       Justin Bieber + BloodPop®   \n",
       "4              5                     Post Malone feat. 21 Savage   \n",
       "..           ...                                             ...   \n",
       "95            96                                  Helene Fischer   \n",
       "96            97                           Kollegah & Farid Bang   \n",
       "97            98                                     Chris Brown   \n",
       "98            99                                          Ufo361   \n",
       "99           100  Jason Derulo feat. Nicki Minaj & Ty Dolla $ign   \n",
       "\n",
       "                     title                       label in_charts peak  \\\n",
       "0      Was du Liebe nennst        Warner Music Germany         9    1   \n",
       "1                   Havana                        Epic        15    2   \n",
       "2                  Perfect                    Atlantic        18    3   \n",
       "3                  Friends            Republic Records        15    4   \n",
       "4                 Rockstar                   Universal        11    2   \n",
       "..                     ...                         ...       ...  ...   \n",
       "95              Achterbahn  Universal Domestic Polydor         7   10   \n",
       "96  Sturmmaske auf (Intro)                Banger Musik         9    1   \n",
       "97               Questions           RCA International        10   74   \n",
       "98           Nice Girl 2.0                   Stay High        24   16   \n",
       "99                  Swalla              Beluga Heights        39    4   \n",
       "\n",
       "    weekbegin    weekend  year  month  \n",
       "0  2017-12-01 2017-12-07  2017     12  \n",
       "1  2017-12-01 2017-12-07  2017     12  \n",
       "2  2017-12-01 2017-12-07  2017     12  \n",
       "3  2017-12-01 2017-12-07  2017     12  \n",
       "4  2017-12-01 2017-12-07  2017     12  \n",
       "..        ...        ...   ...    ...  \n",
       "95 2017-12-01 2017-12-07  2017     12  \n",
       "96 2017-12-01 2017-12-07  2017     12  \n",
       "97 2017-12-01 2017-12-07  2017     12  \n",
       "98 2017-12-01 2017-12-07  2017     12  \n",
       "99 2017-12-01 2017-12-07  2017     12  \n",
       "\n",
       "[100 rows x 10 columns]"
      ]
     },
     "execution_count": 131,
     "metadata": {},
     "output_type": "execute_result"
    }
   ],
   "source": [
    "import datetime\n",
    "\n",
    "df = pd.DataFrame(dict_help)\n",
    "df['weekbegin'] = datetime.datetime.strptime(weekdates[0], \"%d.%m.%Y\")\n",
    "df['weekend'] = datetime.datetime.strptime(weekdates[1], \"%d.%m.%Y\")\n",
    "df['year'] = datetime.datetime.strptime(weekdates[0], \"%d.%m.%Y\").year\n",
    "df['month'] = datetime.datetime.strptime(weekdates[0], \"%d.%m.%Y\").month\n",
    "df"
   ]
  },
  {
   "cell_type": "code",
   "execution_count": 137,
   "metadata": {},
   "outputs": [],
   "source": [
    "df.to_pickle(\"../pickle/charts_20171201.pkl\")\n",
    "df.to_csv(\"../csv/charts_20171201.csv\", index=False)"
   ]
  },
  {
   "cell_type": "code",
   "execution_count": null,
   "metadata": {},
   "outputs": [],
   "source": []
  },
  {
   "cell_type": "code",
   "execution_count": null,
   "metadata": {},
   "outputs": [],
   "source": []
  }
 ],
 "metadata": {
  "kernelspec": {
   "display_name": "Python 3",
   "language": "python",
   "name": "python3"
  },
  "language_info": {
   "codemirror_mode": {
    "name": "ipython",
    "version": 3
   },
   "file_extension": ".py",
   "mimetype": "text/x-python",
   "name": "python",
   "nbconvert_exporter": "python",
   "pygments_lexer": "ipython3",
   "version": "3.8.5"
  }
 },
 "nbformat": 4,
 "nbformat_minor": 4
}
