{
 "cells": [
  {
   "cell_type": "code",
   "execution_count": 5,
   "metadata": {},
   "outputs": [],
   "source": [
    "import pandas as pd\n",
    "import numpy as np\n",
    "import matplotlib.pyplot as plt\n",
    "import seaborn as sns\n",
    "#pd. set_option('display.max_columns', None)\n",
    "#pd. set_option('display.max_rows', None)"
   ]
  },
  {
   "cell_type": "markdown",
   "metadata": {},
   "source": [
    "### Create a data frame with information additional information about language, genres and release date\n",
    "*For this step, we need information from other dataframes generated in the folders \"02_audio\" and \"03_lyrics\"!*"
   ]
  },
  {
   "cell_type": "markdown",
   "metadata": {},
   "source": [
    "#### Load dataframe with basic information and merge the lyrics dataframe to get the language of song"
   ]
  },
  {
   "cell_type": "code",
   "execution_count": 32,
   "metadata": {},
   "outputs": [],
   "source": [
    "df1 = pd.read_pickle(\"../../files/pickle/basicinfo.pkl\")"
   ]
  },
  {
   "cell_type": "code",
   "execution_count": 33,
   "metadata": {},
   "outputs": [],
   "source": [
    "#df1 = df1.drop(['Unnamed: 0'], axis=1)"
   ]
  },
  {
   "cell_type": "code",
   "execution_count": 34,
   "metadata": {},
   "outputs": [],
   "source": [
    "df2 = pd.read_pickle(\"../../files/pickle/lyricsenhanced.pkl\")"
   ]
  },
  {
   "cell_type": "code",
   "execution_count": 35,
   "metadata": {},
   "outputs": [],
   "source": [
    "df2 = df2[['id', 'lang']]"
   ]
  },
  {
   "cell_type": "code",
   "execution_count": 36,
   "metadata": {},
   "outputs": [],
   "source": [
    "df = pd.merge(df1, df2, how='left', on=['id'],\n",
    "                         sort=False)"
   ]
  },
  {
   "cell_type": "code",
   "execution_count": 37,
   "metadata": {
    "scrolled": false
   },
   "outputs": [
    {
     "data": {
      "text/html": [
       "<div>\n",
       "<style scoped>\n",
       "    .dataframe tbody tr th:only-of-type {\n",
       "        vertical-align: middle;\n",
       "    }\n",
       "\n",
       "    .dataframe tbody tr th {\n",
       "        vertical-align: top;\n",
       "    }\n",
       "\n",
       "    .dataframe thead th {\n",
       "        text-align: right;\n",
       "    }\n",
       "</style>\n",
       "<table border=\"1\" class=\"dataframe\">\n",
       "  <thead>\n",
       "    <tr style=\"text-align: right;\">\n",
       "      <th></th>\n",
       "      <th>id</th>\n",
       "      <th>artist</th>\n",
       "      <th>title</th>\n",
       "      <th>year</th>\n",
       "      <th>month</th>\n",
       "      <th>week</th>\n",
       "      <th>totalweeksincharts</th>\n",
       "      <th>total2018weeksincharts</th>\n",
       "      <th>total2019weeksincharts</th>\n",
       "      <th>total2020weeksincharts</th>\n",
       "      <th>lang</th>\n",
       "    </tr>\n",
       "  </thead>\n",
       "  <tbody>\n",
       "    <tr>\n",
       "      <th>0</th>\n",
       "      <td>1</td>\n",
       "      <td>Kollegah &amp; Farid Bang</td>\n",
       "      <td>One Night Stand</td>\n",
       "      <td>2018</td>\n",
       "      <td>1</td>\n",
       "      <td>1</td>\n",
       "      <td>4</td>\n",
       "      <td>4</td>\n",
       "      <td>0</td>\n",
       "      <td>0</td>\n",
       "      <td>de</td>\n",
       "    </tr>\n",
       "    <tr>\n",
       "      <th>1</th>\n",
       "      <td>2</td>\n",
       "      <td>Bausa</td>\n",
       "      <td>FML</td>\n",
       "      <td>2018</td>\n",
       "      <td>1</td>\n",
       "      <td>1</td>\n",
       "      <td>7</td>\n",
       "      <td>7</td>\n",
       "      <td>0</td>\n",
       "      <td>0</td>\n",
       "      <td>de</td>\n",
       "    </tr>\n",
       "    <tr>\n",
       "      <th>2</th>\n",
       "      <td>3</td>\n",
       "      <td>Jazn</td>\n",
       "      <td>Bombay</td>\n",
       "      <td>2018</td>\n",
       "      <td>1</td>\n",
       "      <td>1</td>\n",
       "      <td>9</td>\n",
       "      <td>9</td>\n",
       "      <td>0</td>\n",
       "      <td>0</td>\n",
       "      <td>de</td>\n",
       "    </tr>\n",
       "    <tr>\n",
       "      <th>3</th>\n",
       "      <td>4</td>\n",
       "      <td>Tom Walker</td>\n",
       "      <td>Leave A Light On</td>\n",
       "      <td>2018</td>\n",
       "      <td>1</td>\n",
       "      <td>1</td>\n",
       "      <td>28</td>\n",
       "      <td>28</td>\n",
       "      <td>0</td>\n",
       "      <td>0</td>\n",
       "      <td>en</td>\n",
       "    </tr>\n",
       "    <tr>\n",
       "      <th>4</th>\n",
       "      <td>5</td>\n",
       "      <td>G-Eazy feat. A$AP Rocky &amp; Cardi B</td>\n",
       "      <td>No Limit</td>\n",
       "      <td>2018</td>\n",
       "      <td>1</td>\n",
       "      <td>1</td>\n",
       "      <td>5</td>\n",
       "      <td>5</td>\n",
       "      <td>0</td>\n",
       "      <td>0</td>\n",
       "      <td>en</td>\n",
       "    </tr>\n",
       "  </tbody>\n",
       "</table>\n",
       "</div>"
      ],
      "text/plain": [
       "   id                             artist             title  year  month  week  \\\n",
       "0   1              Kollegah & Farid Bang   One Night Stand  2018      1     1   \n",
       "1   2                              Bausa               FML  2018      1     1   \n",
       "2   3                               Jazn            Bombay  2018      1     1   \n",
       "3   4                         Tom Walker  Leave A Light On  2018      1     1   \n",
       "4   5  G-Eazy feat. A$AP Rocky & Cardi B          No Limit  2018      1     1   \n",
       "\n",
       "   totalweeksincharts  total2018weeksincharts  total2019weeksincharts  \\\n",
       "0                   4                       4                       0   \n",
       "1                   7                       7                       0   \n",
       "2                   9                       9                       0   \n",
       "3                  28                      28                       0   \n",
       "4                   5                       5                       0   \n",
       "\n",
       "   total2020weeksincharts lang  \n",
       "0                       0   de  \n",
       "1                       0   de  \n",
       "2                       0   de  \n",
       "3                       0   en  \n",
       "4                       0   en  "
      ]
     },
     "execution_count": 37,
     "metadata": {},
     "output_type": "execute_result"
    }
   ],
   "source": [
    "df.head()"
   ]
  },
  {
   "cell_type": "markdown",
   "metadata": {},
   "source": [
    "#### Add information about genres and release date from Spotify data"
   ]
  },
  {
   "cell_type": "code",
   "execution_count": 38,
   "metadata": {},
   "outputs": [],
   "source": [
    "df3 = pd.read_pickle(\"../../files/pickle/audioanalysis_compl.pkl\")"
   ]
  },
  {
   "cell_type": "code",
   "execution_count": 39,
   "metadata": {},
   "outputs": [],
   "source": [
    "df3 = df3[['id', 'genres', 'genre', 'release']]"
   ]
  },
  {
   "cell_type": "code",
   "execution_count": 40,
   "metadata": {},
   "outputs": [],
   "source": [
    "df = pd.merge(df, df3, how='left', on=['id'],\n",
    "                         sort=False)"
   ]
  },
  {
   "cell_type": "code",
   "execution_count": 41,
   "metadata": {
    "scrolled": false
   },
   "outputs": [
    {
     "data": {
      "text/html": [
       "<div>\n",
       "<style scoped>\n",
       "    .dataframe tbody tr th:only-of-type {\n",
       "        vertical-align: middle;\n",
       "    }\n",
       "\n",
       "    .dataframe tbody tr th {\n",
       "        vertical-align: top;\n",
       "    }\n",
       "\n",
       "    .dataframe thead th {\n",
       "        text-align: right;\n",
       "    }\n",
       "</style>\n",
       "<table border=\"1\" class=\"dataframe\">\n",
       "  <thead>\n",
       "    <tr style=\"text-align: right;\">\n",
       "      <th></th>\n",
       "      <th>id</th>\n",
       "      <th>artist</th>\n",
       "      <th>title</th>\n",
       "      <th>year</th>\n",
       "      <th>month</th>\n",
       "      <th>week</th>\n",
       "      <th>totalweeksincharts</th>\n",
       "      <th>total2018weeksincharts</th>\n",
       "      <th>total2019weeksincharts</th>\n",
       "      <th>total2020weeksincharts</th>\n",
       "      <th>lang</th>\n",
       "      <th>genres</th>\n",
       "      <th>genre</th>\n",
       "      <th>release</th>\n",
       "    </tr>\n",
       "  </thead>\n",
       "  <tbody>\n",
       "    <tr>\n",
       "      <th>0</th>\n",
       "      <td>1</td>\n",
       "      <td>Kollegah &amp; Farid Bang</td>\n",
       "      <td>One Night Stand</td>\n",
       "      <td>2018</td>\n",
       "      <td>1</td>\n",
       "      <td>1</td>\n",
       "      <td>4</td>\n",
       "      <td>4</td>\n",
       "      <td>0</td>\n",
       "      <td>0</td>\n",
       "      <td>de</td>\n",
       "      <td>[german hip hop]</td>\n",
       "      <td>german hip hop</td>\n",
       "      <td>2018-06-29</td>\n",
       "    </tr>\n",
       "    <tr>\n",
       "      <th>1</th>\n",
       "      <td>2</td>\n",
       "      <td>Bausa</td>\n",
       "      <td>FML</td>\n",
       "      <td>2018</td>\n",
       "      <td>1</td>\n",
       "      <td>1</td>\n",
       "      <td>7</td>\n",
       "      <td>7</td>\n",
       "      <td>0</td>\n",
       "      <td>0</td>\n",
       "      <td>de</td>\n",
       "      <td>[german hip hop, german pop]</td>\n",
       "      <td>german hip hop</td>\n",
       "      <td>2017-12-29</td>\n",
       "    </tr>\n",
       "    <tr>\n",
       "      <th>2</th>\n",
       "      <td>3</td>\n",
       "      <td>Jazn</td>\n",
       "      <td>Bombay</td>\n",
       "      <td>2018</td>\n",
       "      <td>1</td>\n",
       "      <td>1</td>\n",
       "      <td>9</td>\n",
       "      <td>9</td>\n",
       "      <td>0</td>\n",
       "      <td>0</td>\n",
       "      <td>de</td>\n",
       "      <td>[german hip hop, german trap]</td>\n",
       "      <td>german hip hop</td>\n",
       "      <td>2018-11-23</td>\n",
       "    </tr>\n",
       "    <tr>\n",
       "      <th>3</th>\n",
       "      <td>4</td>\n",
       "      <td>Tom Walker</td>\n",
       "      <td>Leave A Light On</td>\n",
       "      <td>2018</td>\n",
       "      <td>1</td>\n",
       "      <td>1</td>\n",
       "      <td>28</td>\n",
       "      <td>28</td>\n",
       "      <td>0</td>\n",
       "      <td>0</td>\n",
       "      <td>en</td>\n",
       "      <td>[indie anthem-folk, indie cafe pop, pop, uk pop]</td>\n",
       "      <td>indie anthem-folk</td>\n",
       "      <td>2017-10-13</td>\n",
       "    </tr>\n",
       "    <tr>\n",
       "      <th>4</th>\n",
       "      <td>5</td>\n",
       "      <td>G-Eazy feat. A$AP Rocky &amp; Cardi B</td>\n",
       "      <td>No Limit</td>\n",
       "      <td>2018</td>\n",
       "      <td>1</td>\n",
       "      <td>1</td>\n",
       "      <td>5</td>\n",
       "      <td>5</td>\n",
       "      <td>0</td>\n",
       "      <td>0</td>\n",
       "      <td>en</td>\n",
       "      <td>[hip hop, indie pop rap, oakland hip hop, pop ...</td>\n",
       "      <td>hip hop</td>\n",
       "      <td>2017-12-15</td>\n",
       "    </tr>\n",
       "  </tbody>\n",
       "</table>\n",
       "</div>"
      ],
      "text/plain": [
       "   id                             artist             title  year  month  week  \\\n",
       "0   1              Kollegah & Farid Bang   One Night Stand  2018      1     1   \n",
       "1   2                              Bausa               FML  2018      1     1   \n",
       "2   3                               Jazn            Bombay  2018      1     1   \n",
       "3   4                         Tom Walker  Leave A Light On  2018      1     1   \n",
       "4   5  G-Eazy feat. A$AP Rocky & Cardi B          No Limit  2018      1     1   \n",
       "\n",
       "   totalweeksincharts  total2018weeksincharts  total2019weeksincharts  \\\n",
       "0                   4                       4                       0   \n",
       "1                   7                       7                       0   \n",
       "2                   9                       9                       0   \n",
       "3                  28                      28                       0   \n",
       "4                   5                       5                       0   \n",
       "\n",
       "   total2020weeksincharts lang  \\\n",
       "0                       0   de   \n",
       "1                       0   de   \n",
       "2                       0   de   \n",
       "3                       0   en   \n",
       "4                       0   en   \n",
       "\n",
       "                                              genres              genre  \\\n",
       "0                                   [german hip hop]     german hip hop   \n",
       "1                       [german hip hop, german pop]     german hip hop   \n",
       "2                      [german hip hop, german trap]     german hip hop   \n",
       "3   [indie anthem-folk, indie cafe pop, pop, uk pop]  indie anthem-folk   \n",
       "4  [hip hop, indie pop rap, oakland hip hop, pop ...            hip hop   \n",
       "\n",
       "      release  \n",
       "0  2018-06-29  \n",
       "1  2017-12-29  \n",
       "2  2018-11-23  \n",
       "3  2017-10-13  \n",
       "4  2017-12-15  "
      ]
     },
     "execution_count": 41,
     "metadata": {},
     "output_type": "execute_result"
    }
   ],
   "source": [
    "df.head()"
   ]
  },
  {
   "cell_type": "code",
   "execution_count": 42,
   "metadata": {},
   "outputs": [],
   "source": [
    "df = df[(pd.DatetimeIndex(df['release']).year >= df['year'])].reset_index(drop=True)"
   ]
  },
  {
   "cell_type": "code",
   "execution_count": 43,
   "metadata": {},
   "outputs": [
    {
     "data": {
      "text/plain": [
       "(1756, 14)"
      ]
     },
     "execution_count": 43,
     "metadata": {},
     "output_type": "execute_result"
    }
   ],
   "source": [
    "df.shape"
   ]
  },
  {
   "cell_type": "code",
   "execution_count": 45,
   "metadata": {},
   "outputs": [
    {
     "data": {
      "text/plain": [
       "2019    606\n",
       "2020    599\n",
       "2018    551\n",
       "Name: year, dtype: int64"
      ]
     },
     "execution_count": 45,
     "metadata": {},
     "output_type": "execute_result"
    }
   ],
   "source": [
    "df['year'].value_counts()"
   ]
  },
  {
   "cell_type": "code",
   "execution_count": 46,
   "metadata": {},
   "outputs": [],
   "source": [
    "df.to_csv('../../files/csv/overview.csv')\n",
    "df.to_pickle('../../files/pickle/overview.pkl')"
   ]
  },
  {
   "cell_type": "code",
   "execution_count": null,
   "metadata": {},
   "outputs": [],
   "source": []
  },
  {
   "cell_type": "code",
   "execution_count": null,
   "metadata": {},
   "outputs": [],
   "source": []
  }
 ],
 "metadata": {
  "kernelspec": {
   "display_name": "Python 3",
   "language": "python",
   "name": "python3"
  },
  "language_info": {
   "codemirror_mode": {
    "name": "ipython",
    "version": 3
   },
   "file_extension": ".py",
   "mimetype": "text/x-python",
   "name": "python",
   "nbconvert_exporter": "python",
   "pygments_lexer": "ipython3",
   "version": "3.8.5"
  }
 },
 "nbformat": 4,
 "nbformat_minor": 4
}
