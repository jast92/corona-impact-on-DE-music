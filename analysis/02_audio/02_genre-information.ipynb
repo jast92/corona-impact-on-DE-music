{
 "cells": [
  {
   "cell_type": "code",
   "execution_count": 1,
   "metadata": {},
   "outputs": [],
   "source": [
    "import spotipy\n",
    "from spotipy.oauth2 import SpotifyClientCredentials\n",
    "import pandas as pd\n",
    "import numpy as np\n",
    "import json\n",
    "import pprint\n",
    "import getpass\n",
    "import re\n",
    "from tqdm import tqdm\n",
    "\n",
    "#pd.set_option('display.max_columns', None)\n",
    "#pd.set_option('display.max_rows', None)"
   ]
  },
  {
   "cell_type": "markdown",
   "metadata": {},
   "source": [
    "### Add genre information and release date to dataframe"
   ]
  },
  {
   "cell_type": "markdown",
   "metadata": {},
   "source": [
    "#### Setup access to Spotify API"
   ]
  },
  {
   "cell_type": "code",
   "execution_count": 2,
   "metadata": {},
   "outputs": [
    {
     "name": "stdout",
     "output_type": "stream",
     "text": [
      "Enter Client ID: ········\n",
      "Enter Client Secret: ········\n"
     ]
    }
   ],
   "source": [
    "clientid = getpass.getpass('Enter Client ID: ')\n",
    "clientsecret = getpass.getpass('Enter Client Secret: ')"
   ]
  },
  {
   "cell_type": "code",
   "execution_count": 3,
   "metadata": {},
   "outputs": [],
   "source": [
    "#Initialize SpotiPy with user credentials\n",
    "sp = spotipy.Spotify(auth_manager=SpotifyClientCredentials(\n",
    "    client_id=clientid,\n",
    "    client_secret=clientsecret))"
   ]
  },
  {
   "cell_type": "markdown",
   "metadata": {},
   "source": [
    "#### Load audio features into dataframe"
   ]
  },
  {
   "cell_type": "code",
   "execution_count": 4,
   "metadata": {},
   "outputs": [],
   "source": [
    "audio_feat = pd.read_pickle(\"../../files/pickle/audioanalysis.pkl\")"
   ]
  },
  {
   "cell_type": "code",
   "execution_count": 6,
   "metadata": {
    "scrolled": true
   },
   "outputs": [
    {
     "data": {
      "text/html": [
       "<div>\n",
       "<style scoped>\n",
       "    .dataframe tbody tr th:only-of-type {\n",
       "        vertical-align: middle;\n",
       "    }\n",
       "\n",
       "    .dataframe tbody tr th {\n",
       "        vertical-align: top;\n",
       "    }\n",
       "\n",
       "    .dataframe thead th {\n",
       "        text-align: right;\n",
       "    }\n",
       "</style>\n",
       "<table border=\"1\" class=\"dataframe\">\n",
       "  <thead>\n",
       "    <tr style=\"text-align: right;\">\n",
       "      <th></th>\n",
       "      <th>id</th>\n",
       "      <th>artist</th>\n",
       "      <th>title</th>\n",
       "      <th>year</th>\n",
       "      <th>month</th>\n",
       "      <th>week</th>\n",
       "      <th>totalweeksincharts</th>\n",
       "      <th>total2018weeksincharts</th>\n",
       "      <th>total2019weeksincharts</th>\n",
       "      <th>total2020weeksincharts</th>\n",
       "      <th>...</th>\n",
       "      <th>instrumentalness</th>\n",
       "      <th>liveness</th>\n",
       "      <th>valence</th>\n",
       "      <th>tempo</th>\n",
       "      <th>duration_ms</th>\n",
       "      <th>time_signature</th>\n",
       "      <th>spotify-id</th>\n",
       "      <th>track_href</th>\n",
       "      <th>analysis_url</th>\n",
       "      <th>uri</th>\n",
       "    </tr>\n",
       "  </thead>\n",
       "  <tbody>\n",
       "    <tr>\n",
       "      <th>0</th>\n",
       "      <td>1</td>\n",
       "      <td>Kollegah &amp; Farid Bang</td>\n",
       "      <td>One Night Stand</td>\n",
       "      <td>2018</td>\n",
       "      <td>1</td>\n",
       "      <td>1</td>\n",
       "      <td>4</td>\n",
       "      <td>4</td>\n",
       "      <td>0</td>\n",
       "      <td>0</td>\n",
       "      <td>...</td>\n",
       "      <td>0.000000</td>\n",
       "      <td>0.1670</td>\n",
       "      <td>0.309</td>\n",
       "      <td>108.883</td>\n",
       "      <td>163773</td>\n",
       "      <td>4</td>\n",
       "      <td>7J82QBqJjwbIDtm1Oxc0uo</td>\n",
       "      <td>https://api.spotify.com/v1/tracks/7J82QBqJjwbI...</td>\n",
       "      <td>https://api.spotify.com/v1/audio-analysis/7J82...</td>\n",
       "      <td>spotify:track:7J82QBqJjwbIDtm1Oxc0uo</td>\n",
       "    </tr>\n",
       "    <tr>\n",
       "      <th>1</th>\n",
       "      <td>2</td>\n",
       "      <td>Bausa</td>\n",
       "      <td>FML</td>\n",
       "      <td>2018</td>\n",
       "      <td>1</td>\n",
       "      <td>1</td>\n",
       "      <td>7</td>\n",
       "      <td>7</td>\n",
       "      <td>0</td>\n",
       "      <td>0</td>\n",
       "      <td>...</td>\n",
       "      <td>0.000309</td>\n",
       "      <td>0.1640</td>\n",
       "      <td>0.246</td>\n",
       "      <td>108.589</td>\n",
       "      <td>179718</td>\n",
       "      <td>4</td>\n",
       "      <td>4OwriBNZjK7VtYBxngT3OJ</td>\n",
       "      <td>https://api.spotify.com/v1/tracks/4OwriBNZjK7V...</td>\n",
       "      <td>https://api.spotify.com/v1/audio-analysis/4Owr...</td>\n",
       "      <td>spotify:track:4OwriBNZjK7VtYBxngT3OJ</td>\n",
       "    </tr>\n",
       "    <tr>\n",
       "      <th>2</th>\n",
       "      <td>3</td>\n",
       "      <td>Jazn</td>\n",
       "      <td>Bombay</td>\n",
       "      <td>2018</td>\n",
       "      <td>1</td>\n",
       "      <td>1</td>\n",
       "      <td>9</td>\n",
       "      <td>9</td>\n",
       "      <td>0</td>\n",
       "      <td>0</td>\n",
       "      <td>...</td>\n",
       "      <td>0.000167</td>\n",
       "      <td>0.0994</td>\n",
       "      <td>0.422</td>\n",
       "      <td>96.032</td>\n",
       "      <td>193040</td>\n",
       "      <td>4</td>\n",
       "      <td>083GGYAqJqUkRsy8JyLeyG</td>\n",
       "      <td>https://api.spotify.com/v1/tracks/083GGYAqJqUk...</td>\n",
       "      <td>https://api.spotify.com/v1/audio-analysis/083G...</td>\n",
       "      <td>spotify:track:083GGYAqJqUkRsy8JyLeyG</td>\n",
       "    </tr>\n",
       "    <tr>\n",
       "      <th>3</th>\n",
       "      <td>4</td>\n",
       "      <td>Tom Walker</td>\n",
       "      <td>Leave A Light On</td>\n",
       "      <td>2018</td>\n",
       "      <td>1</td>\n",
       "      <td>1</td>\n",
       "      <td>28</td>\n",
       "      <td>28</td>\n",
       "      <td>0</td>\n",
       "      <td>0</td>\n",
       "      <td>...</td>\n",
       "      <td>0.000002</td>\n",
       "      <td>0.1330</td>\n",
       "      <td>0.267</td>\n",
       "      <td>68.976</td>\n",
       "      <td>185863</td>\n",
       "      <td>4</td>\n",
       "      <td>6lOWoTqVnAWXchddtTH31W</td>\n",
       "      <td>https://api.spotify.com/v1/tracks/6lOWoTqVnAWX...</td>\n",
       "      <td>https://api.spotify.com/v1/audio-analysis/6lOW...</td>\n",
       "      <td>spotify:track:6lOWoTqVnAWXchddtTH31W</td>\n",
       "    </tr>\n",
       "    <tr>\n",
       "      <th>4</th>\n",
       "      <td>5</td>\n",
       "      <td>G-Eazy feat. A$AP Rocky &amp; Cardi B</td>\n",
       "      <td>No Limit</td>\n",
       "      <td>2018</td>\n",
       "      <td>1</td>\n",
       "      <td>1</td>\n",
       "      <td>5</td>\n",
       "      <td>5</td>\n",
       "      <td>0</td>\n",
       "      <td>0</td>\n",
       "      <td>...</td>\n",
       "      <td>0.000000</td>\n",
       "      <td>0.0853</td>\n",
       "      <td>0.405</td>\n",
       "      <td>175.957</td>\n",
       "      <td>245387</td>\n",
       "      <td>4</td>\n",
       "      <td>2DQ1ITjI0YoLFzuADN1ZBW</td>\n",
       "      <td>https://api.spotify.com/v1/tracks/2DQ1ITjI0YoL...</td>\n",
       "      <td>https://api.spotify.com/v1/audio-analysis/2DQ1...</td>\n",
       "      <td>spotify:track:2DQ1ITjI0YoLFzuADN1ZBW</td>\n",
       "    </tr>\n",
       "  </tbody>\n",
       "</table>\n",
       "<p>5 rows × 27 columns</p>\n",
       "</div>"
      ],
      "text/plain": [
       "   id                             artist             title  year  month  week  \\\n",
       "0   1              Kollegah & Farid Bang   One Night Stand  2018      1     1   \n",
       "1   2                              Bausa               FML  2018      1     1   \n",
       "2   3                               Jazn            Bombay  2018      1     1   \n",
       "3   4                         Tom Walker  Leave A Light On  2018      1     1   \n",
       "4   5  G-Eazy feat. A$AP Rocky & Cardi B          No Limit  2018      1     1   \n",
       "\n",
       "   totalweeksincharts  total2018weeksincharts  total2019weeksincharts  \\\n",
       "0                   4                       4                       0   \n",
       "1                   7                       7                       0   \n",
       "2                   9                       9                       0   \n",
       "3                  28                      28                       0   \n",
       "4                   5                       5                       0   \n",
       "\n",
       "   total2020weeksincharts  ...  instrumentalness  liveness  valence    tempo  \\\n",
       "0                       0  ...          0.000000    0.1670    0.309  108.883   \n",
       "1                       0  ...          0.000309    0.1640    0.246  108.589   \n",
       "2                       0  ...          0.000167    0.0994    0.422   96.032   \n",
       "3                       0  ...          0.000002    0.1330    0.267   68.976   \n",
       "4                       0  ...          0.000000    0.0853    0.405  175.957   \n",
       "\n",
       "   duration_ms  time_signature              spotify-id  \\\n",
       "0       163773               4  7J82QBqJjwbIDtm1Oxc0uo   \n",
       "1       179718               4  4OwriBNZjK7VtYBxngT3OJ   \n",
       "2       193040               4  083GGYAqJqUkRsy8JyLeyG   \n",
       "3       185863               4  6lOWoTqVnAWXchddtTH31W   \n",
       "4       245387               4  2DQ1ITjI0YoLFzuADN1ZBW   \n",
       "\n",
       "                                          track_href  \\\n",
       "0  https://api.spotify.com/v1/tracks/7J82QBqJjwbI...   \n",
       "1  https://api.spotify.com/v1/tracks/4OwriBNZjK7V...   \n",
       "2  https://api.spotify.com/v1/tracks/083GGYAqJqUk...   \n",
       "3  https://api.spotify.com/v1/tracks/6lOWoTqVnAWX...   \n",
       "4  https://api.spotify.com/v1/tracks/2DQ1ITjI0YoL...   \n",
       "\n",
       "                                        analysis_url  \\\n",
       "0  https://api.spotify.com/v1/audio-analysis/7J82...   \n",
       "1  https://api.spotify.com/v1/audio-analysis/4Owr...   \n",
       "2  https://api.spotify.com/v1/audio-analysis/083G...   \n",
       "3  https://api.spotify.com/v1/audio-analysis/6lOW...   \n",
       "4  https://api.spotify.com/v1/audio-analysis/2DQ1...   \n",
       "\n",
       "                                    uri  \n",
       "0  spotify:track:7J82QBqJjwbIDtm1Oxc0uo  \n",
       "1  spotify:track:4OwriBNZjK7VtYBxngT3OJ  \n",
       "2  spotify:track:083GGYAqJqUkRsy8JyLeyG  \n",
       "3  spotify:track:6lOWoTqVnAWXchddtTH31W  \n",
       "4  spotify:track:2DQ1ITjI0YoLFzuADN1ZBW  \n",
       "\n",
       "[5 rows x 27 columns]"
      ]
     },
     "execution_count": 6,
     "metadata": {},
     "output_type": "execute_result"
    }
   ],
   "source": [
    "audio_feat.head()"
   ]
  },
  {
   "cell_type": "markdown",
   "metadata": {},
   "source": [
    "#### Find information about genres and release date and add them to dataframe"
   ]
  },
  {
   "cell_type": "code",
   "execution_count": 7,
   "metadata": {},
   "outputs": [
    {
     "name": "stderr",
     "output_type": "stream",
     "text": [
      "100%|██████████████████████████████████████████████████████████████████████████████| 1897/1897 [08:56<00:00,  3.53it/s]\n"
     ]
    }
   ],
   "source": [
    "genres = []\n",
    "release_date = []\n",
    "\n",
    "for spotify_id in tqdm(audio_feat['spotify-id']):\n",
    "    track = sp.track(spotify_id)\n",
    "    #find the genre of the artist\n",
    "    artist = sp.artist(track[\"artists\"][0][\"external_urls\"][\"spotify\"])\n",
    "    genres.append(artist[\"genres\"])\n",
    "    #find the release_date of the album with which the respective song was released\n",
    "    album = sp.album(track[\"album\"][\"external_urls\"][\"spotify\"])\n",
    "    release_date.append(album[\"release_date\"])\n",
    "    \n",
    "audio_feat['genres'] = genres\n",
    "audio_feat['release'] = release_date"
   ]
  },
  {
   "cell_type": "markdown",
   "metadata": {},
   "source": [
    "#### Create additional column with only the first entry in every genres list of every song and save dataframe"
   ]
  },
  {
   "cell_type": "code",
   "execution_count": 8,
   "metadata": {},
   "outputs": [],
   "source": [
    "genre = []\n",
    "for g in audio_feat['genres']:\n",
    "    if len(g) > 0:\n",
    "        gen = g[0]\n",
    "        genre.append(gen)\n",
    "    else:\n",
    "        gen = np.nan\n",
    "        genre.append(gen)\n",
    "genre\n",
    "\n",
    "audio_feat['genre'] = genre"
   ]
  },
  {
   "cell_type": "code",
   "execution_count": 9,
   "metadata": {},
   "outputs": [
    {
     "data": {
      "text/plain": [
       "german hip hop         522\n",
       "deep german hip hop    213\n",
       "dance pop              159\n",
       "german pop              97\n",
       "albanian hip hop        92\n",
       "                      ... \n",
       "german oi                1\n",
       "dark clubbing            1\n",
       "dutch house              1\n",
       "beatlesque               1\n",
       "viral rap                1\n",
       "Name: genre, Length: 137, dtype: int64"
      ]
     },
     "execution_count": 9,
     "metadata": {},
     "output_type": "execute_result"
    }
   ],
   "source": [
    "audio_feat['genre'].value_counts()"
   ]
  },
  {
   "cell_type": "code",
   "execution_count": 10,
   "metadata": {},
   "outputs": [],
   "source": [
    "audio_feat.to_pickle(\"../../files/pickle/audioanalysis_compl.pkl\")\n",
    "audio_feat.to_csv(\"../../files/csv/audioanalysis_compl.csv\")"
   ]
  },
  {
   "cell_type": "code",
   "execution_count": null,
   "metadata": {},
   "outputs": [],
   "source": []
  }
 ],
 "metadata": {
  "kernelspec": {
   "display_name": "Python 3",
   "language": "python",
   "name": "python3"
  },
  "language_info": {
   "codemirror_mode": {
    "name": "ipython",
    "version": 3
   },
   "file_extension": ".py",
   "mimetype": "text/x-python",
   "name": "python",
   "nbconvert_exporter": "python",
   "pygments_lexer": "ipython3",
   "version": "3.8.5"
  }
 },
 "nbformat": 4,
 "nbformat_minor": 4
}
