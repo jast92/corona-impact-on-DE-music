{
 "cells": [
  {
   "cell_type": "code",
   "execution_count": 1,
   "metadata": {},
   "outputs": [],
   "source": [
    "import pandas as pd\n",
    "import numpy as np\n",
    "import re\n",
    "from tqdm import tqdm\n",
    "from langdetect import detect, DetectorFactory\n",
    "\n",
    "#pd.set_option('display.max_columns', None)\n",
    "#pd.set_option('display.max_rows', None)"
   ]
  },
  {
   "cell_type": "markdown",
   "metadata": {},
   "source": [
    "### Language detection of song"
   ]
  },
  {
   "cell_type": "code",
   "execution_count": 2,
   "metadata": {},
   "outputs": [],
   "source": [
    "lyrical = pd.read_pickle(\"../../files/pickle/lyrics.pkl\")"
   ]
  },
  {
   "cell_type": "code",
   "execution_count": 3,
   "metadata": {},
   "outputs": [],
   "source": [
    "lyrical = lyrical[['id', 'artist', 'title', 'year', 'lyrics']]"
   ]
  },
  {
   "cell_type": "code",
   "execution_count": 4,
   "metadata": {},
   "outputs": [
    {
     "data": {
      "text/html": [
       "<div>\n",
       "<style scoped>\n",
       "    .dataframe tbody tr th:only-of-type {\n",
       "        vertical-align: middle;\n",
       "    }\n",
       "\n",
       "    .dataframe tbody tr th {\n",
       "        vertical-align: top;\n",
       "    }\n",
       "\n",
       "    .dataframe thead th {\n",
       "        text-align: right;\n",
       "    }\n",
       "</style>\n",
       "<table border=\"1\" class=\"dataframe\">\n",
       "  <thead>\n",
       "    <tr style=\"text-align: right;\">\n",
       "      <th></th>\n",
       "      <th>id</th>\n",
       "      <th>artist</th>\n",
       "      <th>title</th>\n",
       "      <th>year</th>\n",
       "      <th>lyrics</th>\n",
       "    </tr>\n",
       "  </thead>\n",
       "  <tbody>\n",
       "    <tr>\n",
       "      <th>0</th>\n",
       "      <td>1</td>\n",
       "      <td>Kollegah &amp; Farid Bang</td>\n",
       "      <td>One Night Stand</td>\n",
       "      <td>2018</td>\n",
       "      <td>Fass' dich an, frag', „Ist die Brust da echt?“...</td>\n",
       "    </tr>\n",
       "    <tr>\n",
       "      <th>1</th>\n",
       "      <td>2</td>\n",
       "      <td>Bausa</td>\n",
       "      <td>FML</td>\n",
       "      <td>2018</td>\n",
       "      <td>Ouh-oh-oh-ouh-ouh\\nBaby, ich weiß, was du will...</td>\n",
       "    </tr>\n",
       "    <tr>\n",
       "      <th>2</th>\n",
       "      <td>3</td>\n",
       "      <td>Jazn</td>\n",
       "      <td>Bombay</td>\n",
       "      <td>2018</td>\n",
       "      <td>Jajajaja\\nOhh, kippe Bombay\\nJaja, jaja, ohh\\n...</td>\n",
       "    </tr>\n",
       "    <tr>\n",
       "      <th>3</th>\n",
       "      <td>4</td>\n",
       "      <td>Tom Walker</td>\n",
       "      <td>Leave A Light On</td>\n",
       "      <td>2018</td>\n",
       "      <td>The second someone mentioned you were all alon...</td>\n",
       "    </tr>\n",
       "    <tr>\n",
       "      <th>4</th>\n",
       "      <td>5</td>\n",
       "      <td>G-Eazy feat. A$AP Rocky &amp; Cardi B</td>\n",
       "      <td>No Limit</td>\n",
       "      <td>2018</td>\n",
       "      <td>If I hit it one time, I'ma pipe her\\nIf I hit ...</td>\n",
       "    </tr>\n",
       "  </tbody>\n",
       "</table>\n",
       "</div>"
      ],
      "text/plain": [
       "   id                             artist             title  year  \\\n",
       "0   1              Kollegah & Farid Bang   One Night Stand  2018   \n",
       "1   2                              Bausa               FML  2018   \n",
       "2   3                               Jazn            Bombay  2018   \n",
       "3   4                         Tom Walker  Leave A Light On  2018   \n",
       "4   5  G-Eazy feat. A$AP Rocky & Cardi B          No Limit  2018   \n",
       "\n",
       "                                              lyrics  \n",
       "0  Fass' dich an, frag', „Ist die Brust da echt?“...  \n",
       "1  Ouh-oh-oh-ouh-ouh\\nBaby, ich weiß, was du will...  \n",
       "2  Jajajaja\\nOhh, kippe Bombay\\nJaja, jaja, ohh\\n...  \n",
       "3  The second someone mentioned you were all alon...  \n",
       "4  If I hit it one time, I'ma pipe her\\nIf I hit ...  "
      ]
     },
     "execution_count": 4,
     "metadata": {},
     "output_type": "execute_result"
    }
   ],
   "source": [
    "lyrical.head()"
   ]
  },
  {
   "cell_type": "markdown",
   "metadata": {},
   "source": [
    "#### Using langdetect package to analyze language of songs based on lyrics"
   ]
  },
  {
   "cell_type": "code",
   "execution_count": 5,
   "metadata": {},
   "outputs": [
    {
     "name": "stderr",
     "output_type": "stream",
     "text": [
      "100%|██████████████████████████████████████████████████████████████████████████████| 1897/1897 [01:22<00:00, 22.97it/s]\n"
     ]
    }
   ],
   "source": [
    "lang = []\n",
    "\n",
    "for lyric in tqdm(lyrical['lyrics']):\n",
    "    try:\n",
    "        DetectorFactory.seed = 0\n",
    "        l = detect(lyric)\n",
    "    except:\n",
    "        l = np.nan\n",
    "    lang.append(l)"
   ]
  },
  {
   "cell_type": "code",
   "execution_count": 6,
   "metadata": {},
   "outputs": [],
   "source": [
    "lyrical['lang'] = lang"
   ]
  },
  {
   "cell_type": "code",
   "execution_count": 7,
   "metadata": {},
   "outputs": [
    {
     "data": {
      "text/plain": [
       "de    1110\n",
       "en     671\n",
       "es      18\n",
       "fr      16\n",
       "sq       8\n",
       "tr       7\n",
       "it       7\n",
       "id       3\n",
       "nl       3\n",
       "ca       3\n",
       "hr       2\n",
       "sw       2\n",
       "he       1\n",
       "tl       1\n",
       "pl       1\n",
       "fa       1\n",
       "lv       1\n",
       "sv       1\n",
       "ro       1\n",
       "Name: lang, dtype: int64"
      ]
     },
     "execution_count": 7,
     "metadata": {},
     "output_type": "execute_result"
    }
   ],
   "source": [
    "lyrical['lang'].value_counts()"
   ]
  },
  {
   "cell_type": "code",
   "execution_count": 8,
   "metadata": {
    "scrolled": true
   },
   "outputs": [
    {
     "data": {
      "text/plain": [
       "3       The second someone mentioned you were all alon...\n",
       "4       If I hit it one time, I'ma pipe her\\nIf I hit ...\n",
       "5       Justin Timberlake - Filthy\\nKendrick Lamar & S...\n",
       "6       Drop top Porsche (Porsche), Rollie on my wrist...\n",
       "7       Hey, if you know what's good\\nIf you know what...\n",
       "                              ...                        \n",
       "1887    Chestnuts roasting on an open fire\\nJack Frost...\n",
       "1888    Bells will be ringing this sad, sad news\\nOh, ...\n",
       "1890    In those bright lights I check your eyes\\nI wa...\n",
       "1893    You cut out a piece of me, and now I bleed int...\n",
       "1894    I'm dreaming of a white Christmas\\nJust like t...\n",
       "Name: lyrics, Length: 671, dtype: object"
      ]
     },
     "execution_count": 8,
     "metadata": {},
     "output_type": "execute_result"
    }
   ],
   "source": [
    "lyrical[(lyrical['lang'] == 'en')]['lyrics']"
   ]
  },
  {
   "cell_type": "markdown",
   "metadata": {},
   "source": [
    "#### Save dataframe"
   ]
  },
  {
   "cell_type": "code",
   "execution_count": 9,
   "metadata": {},
   "outputs": [],
   "source": [
    "lyrical.to_csv(\"../../files/csv/lyricsenhanced.csv\")\n",
    "lyrical.to_pickle(\"../../files/pickle/lyricsenhanced.pkl\")"
   ]
  },
  {
   "cell_type": "code",
   "execution_count": null,
   "metadata": {},
   "outputs": [],
   "source": []
  }
 ],
 "metadata": {
  "kernelspec": {
   "display_name": "Python 3",
   "language": "python",
   "name": "python3"
  },
  "language_info": {
   "codemirror_mode": {
    "name": "ipython",
    "version": 3
   },
   "file_extension": ".py",
   "mimetype": "text/x-python",
   "name": "python",
   "nbconvert_exporter": "python",
   "pygments_lexer": "ipython3",
   "version": "3.8.5"
  }
 },
 "nbformat": 4,
 "nbformat_minor": 4
}
