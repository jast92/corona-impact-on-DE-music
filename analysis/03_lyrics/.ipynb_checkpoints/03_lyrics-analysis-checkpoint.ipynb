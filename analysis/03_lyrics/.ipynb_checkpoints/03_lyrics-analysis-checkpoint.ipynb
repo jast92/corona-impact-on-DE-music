{
 "cells": [
  {
   "cell_type": "code",
   "execution_count": 23,
   "metadata": {},
   "outputs": [
    {
     "name": "stderr",
     "output_type": "stream",
     "text": [
      "C:\\Users\\janek\\.conda\\envs\\butterfly\\lib\\site-packages\\tqdm\\std.py:699: FutureWarning: The Panel class is removed from pandas. Accessing it from the top-level namespace will also be removed in the next version\n",
      "  from pandas import Panel\n",
      "[nltk_data] Downloading package vader_lexicon to\n",
      "[nltk_data]     C:\\Users\\janek\\AppData\\Roaming\\nltk_data...\n",
      "[nltk_data]   Package vader_lexicon is already up-to-date!\n",
      "[nltk_data] Downloading package punkt to\n",
      "[nltk_data]     C:\\Users\\janek\\AppData\\Roaming\\nltk_data...\n",
      "[nltk_data]   Package punkt is already up-to-date!\n"
     ]
    },
    {
     "data": {
      "text/plain": [
       "True"
      ]
     },
     "execution_count": 23,
     "metadata": {},
     "output_type": "execute_result"
    }
   ],
   "source": [
    "import pandas as pd\n",
    "import numpy as np\n",
    "import matplotlib.pyplot as plt\n",
    "%matplotlib inline\n",
    "plt.style.use('seaborn')\n",
    "from collections import Counter\n",
    "import nltk\n",
    "import string\n",
    "# search the text for a word\n",
    "from nltk.tokenize import sent_tokenize, word_tokenize\n",
    "from nltk.text import Text\n",
    "from nltk.corpus import stopwords\n",
    "from tqdm import tqdm\n",
    "tqdm.pandas()\n",
    "\n",
    "#library used to count the frequency of words\n",
    "from sklearn.feature_extraction.text import CountVectorizer\n",
    "\n",
    "#To create the sentiment analysis model, tokenization and lemmatization\n",
    "import nltk\n",
    "from nltk.sentiment.vader import SentimentIntensityAnalyzer\n",
    "from nltk import word_tokenize\n",
    "import nltk.data\n",
    "nltk.download('vader_lexicon')\n",
    "nltk.download('punkt')"
   ]
  },
  {
   "cell_type": "markdown",
   "metadata": {},
   "source": [
    "### Analyze lyrics"
   ]
  },
  {
   "cell_type": "code",
   "execution_count": 2,
   "metadata": {},
   "outputs": [],
   "source": [
    "lyrics = pd.read_pickle('../../files/pickle/lyricsenhanced.pkl')"
   ]
  },
  {
   "cell_type": "code",
   "execution_count": 5,
   "metadata": {},
   "outputs": [
    {
     "data": {
      "text/html": [
       "<div>\n",
       "<style scoped>\n",
       "    .dataframe tbody tr th:only-of-type {\n",
       "        vertical-align: middle;\n",
       "    }\n",
       "\n",
       "    .dataframe tbody tr th {\n",
       "        vertical-align: top;\n",
       "    }\n",
       "\n",
       "    .dataframe thead th {\n",
       "        text-align: right;\n",
       "    }\n",
       "</style>\n",
       "<table border=\"1\" class=\"dataframe\">\n",
       "  <thead>\n",
       "    <tr style=\"text-align: right;\">\n",
       "      <th></th>\n",
       "      <th>id</th>\n",
       "      <th>artist</th>\n",
       "      <th>title</th>\n",
       "      <th>year</th>\n",
       "      <th>lyrics</th>\n",
       "      <th>lang</th>\n",
       "    </tr>\n",
       "  </thead>\n",
       "  <tbody>\n",
       "    <tr>\n",
       "      <th>0</th>\n",
       "      <td>1</td>\n",
       "      <td>Kollegah &amp; Farid Bang</td>\n",
       "      <td>One Night Stand</td>\n",
       "      <td>2018</td>\n",
       "      <td>Fass' dich an, frag', „Ist die Brust da echt?“...</td>\n",
       "      <td>de</td>\n",
       "    </tr>\n",
       "    <tr>\n",
       "      <th>1</th>\n",
       "      <td>2</td>\n",
       "      <td>Bausa</td>\n",
       "      <td>FML</td>\n",
       "      <td>2018</td>\n",
       "      <td>Ouh-oh-oh-ouh-ouh\\nBaby, ich weiß, was du will...</td>\n",
       "      <td>de</td>\n",
       "    </tr>\n",
       "    <tr>\n",
       "      <th>2</th>\n",
       "      <td>3</td>\n",
       "      <td>Jazn</td>\n",
       "      <td>Bombay</td>\n",
       "      <td>2018</td>\n",
       "      <td>Jajajaja\\nOhh, kippe Bombay\\nJaja, jaja, ohh\\n...</td>\n",
       "      <td>de</td>\n",
       "    </tr>\n",
       "    <tr>\n",
       "      <th>3</th>\n",
       "      <td>4</td>\n",
       "      <td>Tom Walker</td>\n",
       "      <td>Leave A Light On</td>\n",
       "      <td>2018</td>\n",
       "      <td>The second someone mentioned you were all alon...</td>\n",
       "      <td>en</td>\n",
       "    </tr>\n",
       "    <tr>\n",
       "      <th>4</th>\n",
       "      <td>5</td>\n",
       "      <td>G-Eazy feat. A$AP Rocky &amp; Cardi B</td>\n",
       "      <td>No Limit</td>\n",
       "      <td>2018</td>\n",
       "      <td>If I hit it one time, I'ma pipe her\\nIf I hit ...</td>\n",
       "      <td>en</td>\n",
       "    </tr>\n",
       "  </tbody>\n",
       "</table>\n",
       "</div>"
      ],
      "text/plain": [
       "   id                             artist             title  year  \\\n",
       "0   1              Kollegah & Farid Bang   One Night Stand  2018   \n",
       "1   2                              Bausa               FML  2018   \n",
       "2   3                               Jazn            Bombay  2018   \n",
       "3   4                         Tom Walker  Leave A Light On  2018   \n",
       "4   5  G-Eazy feat. A$AP Rocky & Cardi B          No Limit  2018   \n",
       "\n",
       "                                              lyrics lang  \n",
       "0  Fass' dich an, frag', „Ist die Brust da echt?“...   de  \n",
       "1  Ouh-oh-oh-ouh-ouh\\nBaby, ich weiß, was du will...   de  \n",
       "2  Jajajaja\\nOhh, kippe Bombay\\nJaja, jaja, ohh\\n...   de  \n",
       "3  The second someone mentioned you were all alon...   en  \n",
       "4  If I hit it one time, I'ma pipe her\\nIf I hit ...   en  "
      ]
     },
     "execution_count": 5,
     "metadata": {},
     "output_type": "execute_result"
    }
   ],
   "source": [
    "lyrics.head()"
   ]
  },
  {
   "cell_type": "code",
   "execution_count": 9,
   "metadata": {},
   "outputs": [
    {
     "data": {
      "text/plain": [
       "(1897, 6)"
      ]
     },
     "execution_count": 9,
     "metadata": {},
     "output_type": "execute_result"
    }
   ],
   "source": [
    "lyrics.shape"
   ]
  },
  {
   "cell_type": "code",
   "execution_count": 11,
   "metadata": {},
   "outputs": [],
   "source": [
    "filter_df = pd.read_pickle('../../files/pickle/overview.pkl')"
   ]
  },
  {
   "cell_type": "code",
   "execution_count": 13,
   "metadata": {},
   "outputs": [
    {
     "data": {
      "text/html": [
       "<div>\n",
       "<style scoped>\n",
       "    .dataframe tbody tr th:only-of-type {\n",
       "        vertical-align: middle;\n",
       "    }\n",
       "\n",
       "    .dataframe tbody tr th {\n",
       "        vertical-align: top;\n",
       "    }\n",
       "\n",
       "    .dataframe thead th {\n",
       "        text-align: right;\n",
       "    }\n",
       "</style>\n",
       "<table border=\"1\" class=\"dataframe\">\n",
       "  <thead>\n",
       "    <tr style=\"text-align: right;\">\n",
       "      <th></th>\n",
       "      <th>id</th>\n",
       "      <th>artist</th>\n",
       "      <th>title</th>\n",
       "      <th>year</th>\n",
       "      <th>lyrics</th>\n",
       "      <th>lang</th>\n",
       "    </tr>\n",
       "  </thead>\n",
       "  <tbody>\n",
       "    <tr>\n",
       "      <th>0</th>\n",
       "      <td>1</td>\n",
       "      <td>Kollegah &amp; Farid Bang</td>\n",
       "      <td>One Night Stand</td>\n",
       "      <td>2018</td>\n",
       "      <td>Fass' dich an, frag', „Ist die Brust da echt?“...</td>\n",
       "      <td>de</td>\n",
       "    </tr>\n",
       "    <tr>\n",
       "      <th>1</th>\n",
       "      <td>3</td>\n",
       "      <td>Jazn</td>\n",
       "      <td>Bombay</td>\n",
       "      <td>2018</td>\n",
       "      <td>Jajajaja\\nOhh, kippe Bombay\\nJaja, jaja, ohh\\n...</td>\n",
       "      <td>de</td>\n",
       "    </tr>\n",
       "    <tr>\n",
       "      <th>2</th>\n",
       "      <td>6</td>\n",
       "      <td>Liam Payne &amp; Rita Ora</td>\n",
       "      <td>For You (Fifty Shades Freed)</td>\n",
       "      <td>2018</td>\n",
       "      <td>Justin Timberlake - Filthy\\nKendrick Lamar &amp; S...</td>\n",
       "      <td>en</td>\n",
       "    </tr>\n",
       "    <tr>\n",
       "      <th>3</th>\n",
       "      <td>8</td>\n",
       "      <td>Justin Timberlake</td>\n",
       "      <td>Filthy</td>\n",
       "      <td>2018</td>\n",
       "      <td>Hey, if you know what's good\\nIf you know what...</td>\n",
       "      <td>en</td>\n",
       "    </tr>\n",
       "    <tr>\n",
       "      <th>4</th>\n",
       "      <td>9</td>\n",
       "      <td>Fard</td>\n",
       "      <td>Die Besten sterben jung</td>\n",
       "      <td>2018</td>\n",
       "      <td>Yeah, Mitternacht und ich fang' wieder zu schr...</td>\n",
       "      <td>de</td>\n",
       "    </tr>\n",
       "    <tr>\n",
       "      <th>...</th>\n",
       "      <td>...</td>\n",
       "      <td>...</td>\n",
       "      <td>...</td>\n",
       "      <td>...</td>\n",
       "      <td>...</td>\n",
       "      <td>...</td>\n",
       "    </tr>\n",
       "    <tr>\n",
       "      <th>1799</th>\n",
       "      <td>1893</td>\n",
       "      <td>Udo Mc Muff, Kreisligalegende &amp; Ikke Hüftgold</td>\n",
       "      <td>Eine Muh, eine Mäh</td>\n",
       "      <td>2020</td>\n",
       "      <td>Wenn man mit den Freunden lacht\\nWenn die Schw...</td>\n",
       "      <td>de</td>\n",
       "    </tr>\n",
       "    <tr>\n",
       "      <th>1800</th>\n",
       "      <td>1894</td>\n",
       "      <td>The Kid Laroi</td>\n",
       "      <td>Without You</td>\n",
       "      <td>2020</td>\n",
       "      <td>You cut out a piece of me, and now I bleed int...</td>\n",
       "      <td>en</td>\n",
       "    </tr>\n",
       "    <tr>\n",
       "      <th>1801</th>\n",
       "      <td>1895</td>\n",
       "      <td>Michael Bublé</td>\n",
       "      <td>White Christmas</td>\n",
       "      <td>2020</td>\n",
       "      <td>I'm dreaming of a white Christmas\\nJust like t...</td>\n",
       "      <td>en</td>\n",
       "    </tr>\n",
       "    <tr>\n",
       "      <th>1802</th>\n",
       "      <td>1896</td>\n",
       "      <td>Lil Lano</td>\n",
       "      <td>Luzifer</td>\n",
       "      <td>2020</td>\n",
       "      <td>Ich will weg von hier, S-Class, Uber, hol mich...</td>\n",
       "      <td>de</td>\n",
       "    </tr>\n",
       "    <tr>\n",
       "      <th>1803</th>\n",
       "      <td>1897</td>\n",
       "      <td>Bosse</td>\n",
       "      <td>Der letzte Tanz</td>\n",
       "      <td>2020</td>\n",
       "      <td>Jahre zieh'n vorbei, Kindheit geht vorbei\\nFre...</td>\n",
       "      <td>de</td>\n",
       "    </tr>\n",
       "  </tbody>\n",
       "</table>\n",
       "<p>1804 rows × 6 columns</p>\n",
       "</div>"
      ],
      "text/plain": [
       "        id                                         artist  \\\n",
       "0        1                          Kollegah & Farid Bang   \n",
       "1        3                                           Jazn   \n",
       "2        6                          Liam Payne & Rita Ora   \n",
       "3        8                              Justin Timberlake   \n",
       "4        9                                           Fard   \n",
       "...    ...                                            ...   \n",
       "1799  1893  Udo Mc Muff, Kreisligalegende & Ikke Hüftgold   \n",
       "1800  1894                                  The Kid Laroi   \n",
       "1801  1895                                  Michael Bublé   \n",
       "1802  1896                                       Lil Lano   \n",
       "1803  1897                                          Bosse   \n",
       "\n",
       "                             title  year  \\\n",
       "0                  One Night Stand  2018   \n",
       "1                           Bombay  2018   \n",
       "2     For You (Fifty Shades Freed)  2018   \n",
       "3                           Filthy  2018   \n",
       "4          Die Besten sterben jung  2018   \n",
       "...                            ...   ...   \n",
       "1799            Eine Muh, eine Mäh  2020   \n",
       "1800                   Without You  2020   \n",
       "1801               White Christmas  2020   \n",
       "1802                       Luzifer  2020   \n",
       "1803               Der letzte Tanz  2020   \n",
       "\n",
       "                                                 lyrics lang  \n",
       "0     Fass' dich an, frag', „Ist die Brust da echt?“...   de  \n",
       "1     Jajajaja\\nOhh, kippe Bombay\\nJaja, jaja, ohh\\n...   de  \n",
       "2     Justin Timberlake - Filthy\\nKendrick Lamar & S...   en  \n",
       "3     Hey, if you know what's good\\nIf you know what...   en  \n",
       "4     Yeah, Mitternacht und ich fang' wieder zu schr...   de  \n",
       "...                                                 ...  ...  \n",
       "1799  Wenn man mit den Freunden lacht\\nWenn die Schw...   de  \n",
       "1800  You cut out a piece of me, and now I bleed int...   en  \n",
       "1801  I'm dreaming of a white Christmas\\nJust like t...   en  \n",
       "1802  Ich will weg von hier, S-Class, Uber, hol mich...   de  \n",
       "1803  Jahre zieh'n vorbei, Kindheit geht vorbei\\nFre...   de  \n",
       "\n",
       "[1804 rows x 6 columns]"
      ]
     },
     "execution_count": 13,
     "metadata": {},
     "output_type": "execute_result"
    }
   ],
   "source": [
    "df = pd.merge(lyrics, filter_df['id'], how=\"inner\", on=['id'], sort=False)\n",
    "df"
   ]
  },
  {
   "cell_type": "code",
   "execution_count": 25,
   "metadata": {
    "scrolled": true
   },
   "outputs": [
    {
     "data": {
      "text/plain": [
       "id        0\n",
       "artist    0\n",
       "title     0\n",
       "year      0\n",
       "lyrics    0\n",
       "lang      1\n",
       "dtype: int64"
      ]
     },
     "execution_count": 25,
     "metadata": {},
     "output_type": "execute_result"
    }
   ],
   "source": [
    "df.isna().sum()"
   ]
  },
  {
   "cell_type": "code",
   "execution_count": 26,
   "metadata": {},
   "outputs": [],
   "source": [
    "df = df[df['lang'].isna() == 0]"
   ]
  },
  {
   "cell_type": "code",
   "execution_count": 29,
   "metadata": {},
   "outputs": [
    {
     "data": {
      "text/plain": [
       "(1769, 6)"
      ]
     },
     "execution_count": 29,
     "metadata": {},
     "output_type": "execute_result"
    }
   ],
   "source": [
    "df['lyrics'].nunique()\n",
    "df.shape"
   ]
  },
  {
   "cell_type": "code",
   "execution_count": 30,
   "metadata": {},
   "outputs": [
    {
     "data": {
      "text/html": [
       "<div>\n",
       "<style scoped>\n",
       "    .dataframe tbody tr th:only-of-type {\n",
       "        vertical-align: middle;\n",
       "    }\n",
       "\n",
       "    .dataframe tbody tr th {\n",
       "        vertical-align: top;\n",
       "    }\n",
       "\n",
       "    .dataframe thead th {\n",
       "        text-align: right;\n",
       "    }\n",
       "</style>\n",
       "<table border=\"1\" class=\"dataframe\">\n",
       "  <thead>\n",
       "    <tr style=\"text-align: right;\">\n",
       "      <th></th>\n",
       "      <th>id</th>\n",
       "      <th>artist</th>\n",
       "      <th>title</th>\n",
       "      <th>year</th>\n",
       "      <th>lyrics</th>\n",
       "      <th>lang</th>\n",
       "    </tr>\n",
       "  </thead>\n",
       "  <tbody>\n",
       "    <tr>\n",
       "      <th>1496</th>\n",
       "      <td>1582</td>\n",
       "      <td>Conkarah feat. Shaggy</td>\n",
       "      <td>Banana</td>\n",
       "      <td>2020</td>\n",
       "      <td>\\n            Lyrics for this song h...</td>\n",
       "      <td>en</td>\n",
       "    </tr>\n",
       "    <tr>\n",
       "      <th>1512</th>\n",
       "      <td>1598</td>\n",
       "      <td>Tujamo - Vize - Majan</td>\n",
       "      <td>Lonely</td>\n",
       "      <td>2020</td>\n",
       "      <td>\\n            Lyrics for this song h...</td>\n",
       "      <td>en</td>\n",
       "    </tr>\n",
       "    <tr>\n",
       "      <th>1583</th>\n",
       "      <td>1669</td>\n",
       "      <td>Ufo361</td>\n",
       "      <td>Playlist</td>\n",
       "      <td>2020</td>\n",
       "      <td>August 20205. August• Joker Bra — Ausziehen\\n6...</td>\n",
       "      <td>de</td>\n",
       "    </tr>\n",
       "    <tr>\n",
       "      <th>1598</th>\n",
       "      <td>1684</td>\n",
       "      <td>Bausa x Juju</td>\n",
       "      <td>2012</td>\n",
       "      <td>2020</td>\n",
       "      <td>August 20205. August• Joker Bra — Ausziehen\\n6...</td>\n",
       "      <td>de</td>\n",
       "    </tr>\n",
       "    <tr>\n",
       "      <th>1600</th>\n",
       "      <td>1686</td>\n",
       "      <td>Jamule x Chilla</td>\n",
       "      <td>13</td>\n",
       "      <td>2020</td>\n",
       "      <td>August 20205. August• Joker Bra — Ausziehen\\n6...</td>\n",
       "      <td>de</td>\n",
       "    </tr>\n",
       "    <tr>\n",
       "      <th>1619</th>\n",
       "      <td>1705</td>\n",
       "      <td>Blackpink x Selena Gomez</td>\n",
       "      <td>Ice Cream</td>\n",
       "      <td>2020</td>\n",
       "      <td>Calvin Harris - Over Now (with The Weeknd)\\nBL...</td>\n",
       "      <td>en</td>\n",
       "    </tr>\n",
       "    <tr>\n",
       "      <th>1624</th>\n",
       "      <td>1710</td>\n",
       "      <td>Topic x A7S feat. Lil Baby</td>\n",
       "      <td>Why Do You Lie To Me</td>\n",
       "      <td>2020</td>\n",
       "      <td>Calvin Harris - Over Now (with The Weeknd)\\nBL...</td>\n",
       "      <td>en</td>\n",
       "    </tr>\n",
       "    <tr>\n",
       "      <th>673</th>\n",
       "      <td>752</td>\n",
       "      <td>Capital Bra x Samra</td>\n",
       "      <td>Wir ticken</td>\n",
       "      <td>2019</td>\n",
       "      <td>Eigene Musikvideos\\n2016:\\n• Die Eins (feat. A...</td>\n",
       "      <td>en</td>\n",
       "    </tr>\n",
       "    <tr>\n",
       "      <th>694</th>\n",
       "      <td>773</td>\n",
       "      <td>Luciano x Samra</td>\n",
       "      <td>Ya salame</td>\n",
       "      <td>2019</td>\n",
       "      <td>Eigene Musikvideos\\n2016:\\n• Die Eins (feat. A...</td>\n",
       "      <td>en</td>\n",
       "    </tr>\n",
       "    <tr>\n",
       "      <th>995</th>\n",
       "      <td>1074</td>\n",
       "      <td>Capital Bra x Samra</td>\n",
       "      <td>Nummer 1</td>\n",
       "      <td>2019</td>\n",
       "      <td>Eigene Musikvideos\\n2016:\\n• Die Eins (feat. A...</td>\n",
       "      <td>en</td>\n",
       "    </tr>\n",
       "    <tr>\n",
       "      <th>1015</th>\n",
       "      <td>1094</td>\n",
       "      <td>Sido feat. Samra &amp; Kool Savas</td>\n",
       "      <td>High</td>\n",
       "      <td>2019</td>\n",
       "      <td>Eigene Musikvideos\\n2016:\\n• Die Eins (feat. A...</td>\n",
       "      <td>en</td>\n",
       "    </tr>\n",
       "    <tr>\n",
       "      <th>1040</th>\n",
       "      <td>1119</td>\n",
       "      <td>Capital Bra x Samra &amp; Lea</td>\n",
       "      <td>110</td>\n",
       "      <td>2019</td>\n",
       "      <td>Eigene Musikvideos\\n2016:\\n• Die Eins (feat. A...</td>\n",
       "      <td>en</td>\n",
       "    </tr>\n",
       "    <tr>\n",
       "      <th>1474</th>\n",
       "      <td>1560</td>\n",
       "      <td>Kalazh44 x Samra</td>\n",
       "      <td>Shakira</td>\n",
       "      <td>2020</td>\n",
       "      <td>Eigene Musikvideos\\n2016:\\n• Die Eins (feat. A...</td>\n",
       "      <td>en</td>\n",
       "    </tr>\n",
       "    <tr>\n",
       "      <th>1501</th>\n",
       "      <td>1587</td>\n",
       "      <td>Bozza x Samra</td>\n",
       "      <td>Unbekannt</td>\n",
       "      <td>2020</td>\n",
       "      <td>Eigene Musikvideos\\n2016:\\n• Die Eins (feat. A...</td>\n",
       "      <td>en</td>\n",
       "    </tr>\n",
       "    <tr>\n",
       "      <th>1628</th>\n",
       "      <td>1714</td>\n",
       "      <td>Bozza x Samra</td>\n",
       "      <td>Al Qu Damm</td>\n",
       "      <td>2020</td>\n",
       "      <td>Eigene Musikvideos\\n2016:\\n• Die Eins (feat. A...</td>\n",
       "      <td>en</td>\n",
       "    </tr>\n",
       "    <tr>\n",
       "      <th>1188</th>\n",
       "      <td>1271</td>\n",
       "      <td>Kianush x PA Sports</td>\n",
       "      <td>Streit mit dem Mond</td>\n",
       "      <td>2020</td>\n",
       "      <td>Eigene Musikvideos:\\n2008:\\n- 1000er fürn 16er...</td>\n",
       "      <td>de</td>\n",
       "    </tr>\n",
       "    <tr>\n",
       "      <th>1290</th>\n",
       "      <td>1374</td>\n",
       "      <td>Kianush x PA Sports</td>\n",
       "      <td>Cyberpunk</td>\n",
       "      <td>2020</td>\n",
       "      <td>Eigene Musikvideos:\\n2008:\\n- 1000er fürn 16er...</td>\n",
       "      <td>de</td>\n",
       "    </tr>\n",
       "    <tr>\n",
       "      <th>1509</th>\n",
       "      <td>1595</td>\n",
       "      <td>Milonair x Joker Bra</td>\n",
       "      <td>Imma Gute</td>\n",
       "      <td>2020</td>\n",
       "      <td>Eigene Musikvideos:\\n2018:\\n• Irgendwas andere...</td>\n",
       "      <td>de</td>\n",
       "    </tr>\n",
       "    <tr>\n",
       "      <th>1606</th>\n",
       "      <td>1692</td>\n",
       "      <td>Vize x Joker Bra x Leony</td>\n",
       "      <td>Paradise</td>\n",
       "      <td>2020</td>\n",
       "      <td>Eigene Musikvideos:\\n2018:\\n• Irgendwas andere...</td>\n",
       "      <td>de</td>\n",
       "    </tr>\n",
       "    <tr>\n",
       "      <th>1082</th>\n",
       "      <td>1161</td>\n",
       "      <td>Meduza x Becky Hill x Goodboys</td>\n",
       "      <td>Lose Control</td>\n",
       "      <td>2019</td>\n",
       "      <td>Harry Styles - Lights Up\\nCamila Cabello - Eas...</td>\n",
       "      <td>en</td>\n",
       "    </tr>\n",
       "    <tr>\n",
       "      <th>1113</th>\n",
       "      <td>1192</td>\n",
       "      <td>Black Eyed Peas x J Balvin</td>\n",
       "      <td>Ritmo (Bad Boys For Life)</td>\n",
       "      <td>2019</td>\n",
       "      <td>Harry Styles - Lights Up\\nCamila Cabello - Eas...</td>\n",
       "      <td>en</td>\n",
       "    </tr>\n",
       "    <tr>\n",
       "      <th>1524</th>\n",
       "      <td>1610</td>\n",
       "      <td>Maestro</td>\n",
       "      <td>Durch die Nacht</td>\n",
       "      <td>2020</td>\n",
       "      <td>Juli 20203. Juli• AK Ausserkontrolle &amp; Juggler...</td>\n",
       "      <td>de</td>\n",
       "    </tr>\n",
       "    <tr>\n",
       "      <th>1539</th>\n",
       "      <td>1625</td>\n",
       "      <td>Ufo361</td>\n",
       "      <td>Shit Changed</td>\n",
       "      <td>2020</td>\n",
       "      <td>Juli 20203. Juli• AK Ausserkontrolle &amp; Juggler...</td>\n",
       "      <td>de</td>\n",
       "    </tr>\n",
       "    <tr>\n",
       "      <th>399</th>\n",
       "      <td>427</td>\n",
       "      <td>Luciano [DE]</td>\n",
       "      <td>MoneyGram</td>\n",
       "      <td>2018</td>\n",
       "      <td>Macloud, was für'n Beat!\\nBrrra!\\n\\nNegro, tra...</td>\n",
       "      <td>de</td>\n",
       "    </tr>\n",
       "    <tr>\n",
       "      <th>519</th>\n",
       "      <td>552</td>\n",
       "      <td>Luciano feat. Fredo</td>\n",
       "      <td>Money</td>\n",
       "      <td>2018</td>\n",
       "      <td>Macloud, was für'n Beat!\\nBrrra!\\n\\nNegro, tra...</td>\n",
       "      <td>de</td>\n",
       "    </tr>\n",
       "    <tr>\n",
       "      <th>1064</th>\n",
       "      <td>1143</td>\n",
       "      <td>Capital Bra &amp; Samra</td>\n",
       "      <td>Berlin lebt wie nie zuvor</td>\n",
       "      <td>2019</td>\n",
       "      <td>Wuah, rrah\\n\\nKafa, Kafa, Grey Goose, Level Ma...</td>\n",
       "      <td>de</td>\n",
       "    </tr>\n",
       "    <tr>\n",
       "      <th>1294</th>\n",
       "      <td>1378</td>\n",
       "      <td>Samra &amp; Capital Bra</td>\n",
       "      <td>Berlin</td>\n",
       "      <td>2020</td>\n",
       "      <td>Wuah, rrah\\n\\nKafa, Kafa, Grey Goose, Level Ma...</td>\n",
       "      <td>de</td>\n",
       "    </tr>\n",
       "  </tbody>\n",
       "</table>\n",
       "</div>"
      ],
      "text/plain": [
       "        id                          artist                      title  year  \\\n",
       "1496  1582           Conkarah feat. Shaggy                     Banana  2020   \n",
       "1512  1598           Tujamo - Vize - Majan                     Lonely  2020   \n",
       "1583  1669                          Ufo361                   Playlist  2020   \n",
       "1598  1684                    Bausa x Juju                       2012  2020   \n",
       "1600  1686                 Jamule x Chilla                         13  2020   \n",
       "1619  1705        Blackpink x Selena Gomez                  Ice Cream  2020   \n",
       "1624  1710      Topic x A7S feat. Lil Baby       Why Do You Lie To Me  2020   \n",
       "673    752             Capital Bra x Samra                 Wir ticken  2019   \n",
       "694    773                 Luciano x Samra                  Ya salame  2019   \n",
       "995   1074             Capital Bra x Samra                   Nummer 1  2019   \n",
       "1015  1094   Sido feat. Samra & Kool Savas                       High  2019   \n",
       "1040  1119       Capital Bra x Samra & Lea                        110  2019   \n",
       "1474  1560                Kalazh44 x Samra                    Shakira  2020   \n",
       "1501  1587                   Bozza x Samra                  Unbekannt  2020   \n",
       "1628  1714                   Bozza x Samra                 Al Qu Damm  2020   \n",
       "1188  1271             Kianush x PA Sports        Streit mit dem Mond  2020   \n",
       "1290  1374             Kianush x PA Sports                  Cyberpunk  2020   \n",
       "1509  1595            Milonair x Joker Bra                  Imma Gute  2020   \n",
       "1606  1692        Vize x Joker Bra x Leony                   Paradise  2020   \n",
       "1082  1161  Meduza x Becky Hill x Goodboys               Lose Control  2019   \n",
       "1113  1192      Black Eyed Peas x J Balvin  Ritmo (Bad Boys For Life)  2019   \n",
       "1524  1610                         Maestro            Durch die Nacht  2020   \n",
       "1539  1625                          Ufo361               Shit Changed  2020   \n",
       "399    427                    Luciano [DE]                  MoneyGram  2018   \n",
       "519    552             Luciano feat. Fredo                      Money  2018   \n",
       "1064  1143             Capital Bra & Samra  Berlin lebt wie nie zuvor  2019   \n",
       "1294  1378             Samra & Capital Bra                     Berlin  2020   \n",
       "\n",
       "                                                 lyrics lang  \n",
       "1496            \\n            Lyrics for this song h...   en  \n",
       "1512            \\n            Lyrics for this song h...   en  \n",
       "1583  August 20205. August• Joker Bra — Ausziehen\\n6...   de  \n",
       "1598  August 20205. August• Joker Bra — Ausziehen\\n6...   de  \n",
       "1600  August 20205. August• Joker Bra — Ausziehen\\n6...   de  \n",
       "1619  Calvin Harris - Over Now (with The Weeknd)\\nBL...   en  \n",
       "1624  Calvin Harris - Over Now (with The Weeknd)\\nBL...   en  \n",
       "673   Eigene Musikvideos\\n2016:\\n• Die Eins (feat. A...   en  \n",
       "694   Eigene Musikvideos\\n2016:\\n• Die Eins (feat. A...   en  \n",
       "995   Eigene Musikvideos\\n2016:\\n• Die Eins (feat. A...   en  \n",
       "1015  Eigene Musikvideos\\n2016:\\n• Die Eins (feat. A...   en  \n",
       "1040  Eigene Musikvideos\\n2016:\\n• Die Eins (feat. A...   en  \n",
       "1474  Eigene Musikvideos\\n2016:\\n• Die Eins (feat. A...   en  \n",
       "1501  Eigene Musikvideos\\n2016:\\n• Die Eins (feat. A...   en  \n",
       "1628  Eigene Musikvideos\\n2016:\\n• Die Eins (feat. A...   en  \n",
       "1188  Eigene Musikvideos:\\n2008:\\n- 1000er fürn 16er...   de  \n",
       "1290  Eigene Musikvideos:\\n2008:\\n- 1000er fürn 16er...   de  \n",
       "1509  Eigene Musikvideos:\\n2018:\\n• Irgendwas andere...   de  \n",
       "1606  Eigene Musikvideos:\\n2018:\\n• Irgendwas andere...   de  \n",
       "1082  Harry Styles - Lights Up\\nCamila Cabello - Eas...   en  \n",
       "1113  Harry Styles - Lights Up\\nCamila Cabello - Eas...   en  \n",
       "1524  Juli 20203. Juli• AK Ausserkontrolle & Juggler...   de  \n",
       "1539  Juli 20203. Juli• AK Ausserkontrolle & Juggler...   de  \n",
       "399   Macloud, was für'n Beat!\\nBrrra!\\n\\nNegro, tra...   de  \n",
       "519   Macloud, was für'n Beat!\\nBrrra!\\n\\nNegro, tra...   de  \n",
       "1064  Wuah, rrah\\n\\nKafa, Kafa, Grey Goose, Level Ma...   de  \n",
       "1294  Wuah, rrah\\n\\nKafa, Kafa, Grey Goose, Level Ma...   de  "
      ]
     },
     "execution_count": 30,
     "metadata": {},
     "output_type": "execute_result"
    }
   ],
   "source": [
    "duplicates = pd.concat(g for _, g in df.groupby(\"lyrics\") if len(g) > 1)\n",
    "duplicates"
   ]
  },
  {
   "cell_type": "code",
   "execution_count": 36,
   "metadata": {},
   "outputs": [],
   "source": [
    "import lyricsgenius\n",
    "import getpass\n",
    "from tqdm import tqdm"
   ]
  },
  {
   "cell_type": "code",
   "execution_count": 37,
   "metadata": {},
   "outputs": [
    {
     "name": "stdout",
     "output_type": "stream",
     "text": [
      "········\n"
     ]
    }
   ],
   "source": [
    "accesstoken = getpass.getpass()"
   ]
  },
  {
   "cell_type": "code",
   "execution_count": 38,
   "metadata": {},
   "outputs": [],
   "source": [
    "client_access_token = accesstoken\n",
    "genius = lyricsgenius.Genius(client_access_token, remove_section_headers=True,\n",
    "                 skip_non_songs=True, excluded_terms=[\"Remix\", \"Live\", \"Edit\", \"Mix\", \"Club\"])"
   ]
  },
  {
   "cell_type": "code",
   "execution_count": 45,
   "metadata": {},
   "outputs": [
    {
     "data": {
      "text/plain": [
       "'https://genius.com/Conkarah-banana-lyrics'"
      ]
     },
     "execution_count": 45,
     "metadata": {},
     "output_type": "execute_result"
    }
   ],
   "source": [
    "manual_url = {1582: 'https://genius.com/Conkarah-banana-lyrics',\n",
    "              1598: 'https://genius.com/Tujamo-and-vize-lonely-lyrics',\n",
    "              1669: 'https://genius.com/Ufo361-and-sonus030-playlist-lyrics',\n",
    "              1684: 'https://genius.com/Bausa-and-juju-2012-lyrics',\n",
    "              1686: 'https://genius.com/Jamule-and-chilla-13-lyrics',\n",
    "              1705: 'https://genius.com/Blackpink-and-selena-gomez-ice-cream-lyrics',\n",
    "              1710: 'https://genius.com/Topic-and-a7s-why-do-you-lie-to-me-lyrics',\n",
    "              752: 'https://genius.com/Capital-bra-and-samra-wir-ticken-lyrics',\n",
    "              773: 'https://genius.com/Luciano-and-samra-ya-salame-lyrics',\n",
    "              1074: 'https://genius.com/Capital-bra-and-samra-nummer-1-lyrics',\n",
    "              1094: 'https://genius.com/Sido-samra-and-kool-savas-high-lyrics',\n",
    "              1119: 'https://genius.com/Capital-bra-samra-and-lea-110-lyrics',\n",
    "              1560: 'https://genius.com/Kalazh44-and-samra-kashira-lyrics',\n",
    "              1587: 'https://genius.com/Bozza-and-samra-unbekannt-lyrics',\n",
    "              1714: 'https://genius.com/Bozza-and-samra-al-qu-damm-lyrics',\n",
    "              1271: 'https://genius.com/Kianush-and-pa-sports-streit-mit-dem-mond-lyrics',\n",
    "              1374: 'https://genius.com/Kianush-and-pa-sports-cyberpunk-lyrics',\n",
    "              1595: 'https://genius.com/Milonair-and-joker-bra-imma-gute-lyrics',\n",
    "              1692: 'https://genius.com/Vize-joker-bra-and-leony-paradise-lyrics',\n",
    "              1161: 'https://genius.com/Meduza-becky-hill-and-goodboys-lose-control-lyrics',\n",
    "              1192: 'https://genius.com/The-black-eyed-peas-and-j-balvin-ritmo-bad-boys-for-life-lyrics',\n",
    "              1610: 'https://genius.com/Maestro-deu-durch-die-nacht-lyrics',\n",
    "              1625: 'https://genius.com/Ufo361-and-sonus030-shit-changed-lyrics',\n",
    "              427: 'https://genius.com/Luciano-moneygram-lyrics',\n",
    "              552: 'https://genius.com/Luciano-money-lyrics',\n",
    "              1143: 'https://genius.com/Capital-bra-and-samra-berlin-lebt-wie-nie-zuvor-lyrics',\n",
    "              1378: 'https://genius.com/Samra-and-capital-bra-berlin-lyrics',\n",
    "             }"
   ]
  },
  {
   "cell_type": "code",
   "execution_count": 47,
   "metadata": {},
   "outputs": [],
   "source": [
    "manual_lyrics = {}\n",
    "\n",
    "for k,v in manual_url.items():\n",
    "    try:\n",
    "        song_lyrics = genius.lyrics(v)\n",
    "        manual_lyrics[k] = song_lyrics\n",
    "    except:\n",
    "        manual_lyrics[k] = np.nan"
   ]
  },
  {
   "cell_type": "code",
   "execution_count": 49,
   "metadata": {},
   "outputs": [],
   "source": [
    "for k,v in manual_lyrics.items():\n",
    "    df.loc[df['id'] == k, ['lyrics']] = v"
   ]
  },
  {
   "cell_type": "code",
   "execution_count": 51,
   "metadata": {},
   "outputs": [],
   "source": [
    "df.to_pickle(\"../../files/pickle/lyricsbasis.pkl\")"
   ]
  },
  {
   "cell_type": "markdown",
   "metadata": {},
   "source": [
    "### Analyze all lyrics"
   ]
  },
  {
   "cell_type": "code",
   "execution_count": 6,
   "metadata": {},
   "outputs": [],
   "source": [
    "df = pd.read_pickle(\"../../files/pickle/lyricsbasis.pkl\")"
   ]
  },
  {
   "cell_type": "code",
   "execution_count": 7,
   "metadata": {},
   "outputs": [
    {
     "data": {
      "text/plain": [
       "(1769, 6)"
      ]
     },
     "execution_count": 7,
     "metadata": {},
     "output_type": "execute_result"
    }
   ],
   "source": [
    "df.shape"
   ]
  },
  {
   "cell_type": "code",
   "execution_count": 8,
   "metadata": {},
   "outputs": [],
   "source": [
    "df = df.dropna(subset=['lyrics'])"
   ]
  },
  {
   "cell_type": "code",
   "execution_count": 9,
   "metadata": {},
   "outputs": [
    {
     "data": {
      "text/plain": [
       "(1768, 6)"
      ]
     },
     "execution_count": 9,
     "metadata": {},
     "output_type": "execute_result"
    }
   ],
   "source": [
    "df.shape"
   ]
  },
  {
   "cell_type": "code",
   "execution_count": 10,
   "metadata": {
    "scrolled": false
   },
   "outputs": [
    {
     "data": {
      "text/plain": [
       "2019    618\n",
       "2020    608\n",
       "2018    542\n",
       "Name: year, dtype: int64"
      ]
     },
     "execution_count": 10,
     "metadata": {},
     "output_type": "execute_result"
    }
   ],
   "source": [
    "df.year.value_counts()"
   ]
  },
  {
   "cell_type": "markdown",
   "metadata": {},
   "source": [
    "### Reduce data set to only include songs from 2019 & 2020"
   ]
  },
  {
   "cell_type": "code",
   "execution_count": 11,
   "metadata": {},
   "outputs": [],
   "source": [
    "df = df[(df['year'] > 2018)]"
   ]
  },
  {
   "cell_type": "code",
   "execution_count": 12,
   "metadata": {
    "scrolled": true
   },
   "outputs": [
    {
     "data": {
      "text/plain": [
       "2019    618\n",
       "2020    608\n",
       "Name: year, dtype: int64"
      ]
     },
     "execution_count": 12,
     "metadata": {},
     "output_type": "execute_result"
    }
   ],
   "source": [
    "df.year.value_counts()"
   ]
  },
  {
   "cell_type": "markdown",
   "metadata": {},
   "source": [
    "## German Song Analysis"
   ]
  },
  {
   "cell_type": "code",
   "execution_count": 26,
   "metadata": {},
   "outputs": [],
   "source": [
    "df_de = df[(df['lang'] == \"de\")]"
   ]
  },
  {
   "cell_type": "code",
   "execution_count": 27,
   "metadata": {},
   "outputs": [
    {
     "data": {
      "text/plain": [
       "(791, 6)"
      ]
     },
     "execution_count": 27,
     "metadata": {},
     "output_type": "execute_result"
    }
   ],
   "source": [
    "df_de.shape"
   ]
  },
  {
   "cell_type": "code",
   "execution_count": 28,
   "metadata": {},
   "outputs": [
    {
     "data": {
      "text/plain": [
       "2019    400\n",
       "2020    391\n",
       "Name: year, dtype: int64"
      ]
     },
     "execution_count": 28,
     "metadata": {},
     "output_type": "execute_result"
    }
   ],
   "source": [
    "df_de.year.value_counts()"
   ]
  },
  {
   "cell_type": "code",
   "execution_count": 45,
   "metadata": {},
   "outputs": [],
   "source": [
    "df_de = df_de.reset_index(drop=True)"
   ]
  },
  {
   "cell_type": "markdown",
   "metadata": {},
   "source": [
    "### Translate German lyrics for VADER analysis"
   ]
  },
  {
   "cell_type": "code",
   "execution_count": 46,
   "metadata": {
    "scrolled": true
   },
   "outputs": [
    {
     "name": "stdout",
     "output_type": "stream",
     "text": [
      "Requirement already satisfied: google_trans_new in c:\\users\\janek\\.conda\\envs\\butterfly\\lib\\site-packages (1.1.9)\n",
      "Note: you may need to restart the kernel to use updated packages.\n"
     ]
    }
   ],
   "source": [
    "pip install google_trans_new"
   ]
  },
  {
   "cell_type": "code",
   "execution_count": 47,
   "metadata": {},
   "outputs": [],
   "source": [
    "from google_trans_new import google_translator  \n",
    "\n",
    "def translate(x):\n",
    "    translator = google_translator()  \n",
    "    translate_text = translator.translate(x,lang_tgt='en')\n",
    "    return translate_text"
   ]
  },
  {
   "cell_type": "code",
   "execution_count": 52,
   "metadata": {},
   "outputs": [
    {
     "name": "stderr",
     "output_type": "stream",
     "text": [
      "100%|████████████████████████████████████████████████████████████████████████████████| 791/791 [03:20<00:00,  3.94it/s]\n"
     ]
    }
   ],
   "source": [
    "df_de['translation'] = df_de['lyrics'].progress_apply(translate)"
   ]
  },
  {
   "cell_type": "code",
   "execution_count": 53,
   "metadata": {},
   "outputs": [
    {
     "data": {
      "text/html": [
       "<div>\n",
       "<style scoped>\n",
       "    .dataframe tbody tr th:only-of-type {\n",
       "        vertical-align: middle;\n",
       "    }\n",
       "\n",
       "    .dataframe tbody tr th {\n",
       "        vertical-align: top;\n",
       "    }\n",
       "\n",
       "    .dataframe thead th {\n",
       "        text-align: right;\n",
       "    }\n",
       "</style>\n",
       "<table border=\"1\" class=\"dataframe\">\n",
       "  <thead>\n",
       "    <tr style=\"text-align: right;\">\n",
       "      <th></th>\n",
       "      <th>id</th>\n",
       "      <th>artist</th>\n",
       "      <th>title</th>\n",
       "      <th>year</th>\n",
       "      <th>lyrics</th>\n",
       "      <th>lang</th>\n",
       "      <th>translation</th>\n",
       "    </tr>\n",
       "  </thead>\n",
       "  <tbody>\n",
       "    <tr>\n",
       "      <th>0</th>\n",
       "      <td>629</td>\n",
       "      <td>LX &amp; Maxwell feat. Bonez MC, Gzuz &amp; Sa4</td>\n",
       "      <td>HaifischNikez Allstars</td>\n",
       "      <td>2019</td>\n",
       "      <td>Frische Sneaker, ja, genauso muss das sein\\nDo...</td>\n",
       "      <td>de</td>\n",
       "      <td>Fresh sneakers, yes, that's how it has to be\\n...</td>\n",
       "    </tr>\n",
       "    <tr>\n",
       "      <th>1</th>\n",
       "      <td>630</td>\n",
       "      <td>Kerstin Ott &amp; Helene Fischer</td>\n",
       "      <td>Regenbogenfarben</td>\n",
       "      <td>2019</td>\n",
       "      <td>Hast du schon ein'n Regenbogen in schwarz-weiß...</td>\n",
       "      <td>de</td>\n",
       "      <td>Have you already seen a rainbow in black and w...</td>\n",
       "    </tr>\n",
       "    <tr>\n",
       "      <th>2</th>\n",
       "      <td>632</td>\n",
       "      <td>Nimo &amp; Capo</td>\n",
       "      <td>Anderes Niveau</td>\n",
       "      <td>2019</td>\n",
       "      <td>Aah (uhh)\\nAah (uhh)\\nAh (uhh)\\nAh, la la la l...</td>\n",
       "      <td>de</td>\n",
       "      <td>Aah (uhh)\\nAah (uhh)\\nAh (uhh)\\nAh, la la la l...</td>\n",
       "    </tr>\n",
       "    <tr>\n",
       "      <th>3</th>\n",
       "      <td>633</td>\n",
       "      <td>Nash &amp; Azet</td>\n",
       "      <td>Crack, Koks, Piece Unternehmen</td>\n",
       "      <td>2019</td>\n",
       "      <td>Millimètres, Minivan\\nDope-Chef, Lucry\\n\\nJa, ...</td>\n",
       "      <td>de</td>\n",
       "      <td>Millimeters, minivan\\nDope boss, Lucry\\n\\nYes,...</td>\n",
       "    </tr>\n",
       "    <tr>\n",
       "      <th>4</th>\n",
       "      <td>634</td>\n",
       "      <td>Capo feat. Nimo</td>\n",
       "      <td>Lambo Diablo GT</td>\n",
       "      <td>2019</td>\n",
       "      <td>Ahh, ahh, ahh\\nYeah, yeah\\nWua, wua, wua, wua\\...</td>\n",
       "      <td>de</td>\n",
       "      <td>Ahh, ahh, ahh\\nYeah yeah\\nWua, wua, wua, wua\\n...</td>\n",
       "    </tr>\n",
       "  </tbody>\n",
       "</table>\n",
       "</div>"
      ],
      "text/plain": [
       "    id                                   artist  \\\n",
       "0  629  LX & Maxwell feat. Bonez MC, Gzuz & Sa4   \n",
       "1  630             Kerstin Ott & Helene Fischer   \n",
       "2  632                              Nimo & Capo   \n",
       "3  633                              Nash & Azet   \n",
       "4  634                          Capo feat. Nimo   \n",
       "\n",
       "                            title  year  \\\n",
       "0          HaifischNikez Allstars  2019   \n",
       "1                Regenbogenfarben  2019   \n",
       "2                  Anderes Niveau  2019   \n",
       "3  Crack, Koks, Piece Unternehmen  2019   \n",
       "4                 Lambo Diablo GT  2019   \n",
       "\n",
       "                                              lyrics lang  \\\n",
       "0  Frische Sneaker, ja, genauso muss das sein\\nDo...   de   \n",
       "1  Hast du schon ein'n Regenbogen in schwarz-weiß...   de   \n",
       "2  Aah (uhh)\\nAah (uhh)\\nAh (uhh)\\nAh, la la la l...   de   \n",
       "3  Millimètres, Minivan\\nDope-Chef, Lucry\\n\\nJa, ...   de   \n",
       "4  Ahh, ahh, ahh\\nYeah, yeah\\nWua, wua, wua, wua\\...   de   \n",
       "\n",
       "                                         translation  \n",
       "0  Fresh sneakers, yes, that's how it has to be\\n...  \n",
       "1  Have you already seen a rainbow in black and w...  \n",
       "2  Aah (uhh)\\nAah (uhh)\\nAh (uhh)\\nAh, la la la l...  \n",
       "3  Millimeters, minivan\\nDope boss, Lucry\\n\\nYes,...  \n",
       "4  Ahh, ahh, ahh\\nYeah yeah\\nWua, wua, wua, wua\\n...  "
      ]
     },
     "execution_count": 53,
     "metadata": {},
     "output_type": "execute_result"
    }
   ],
   "source": [
    "df_de.head()"
   ]
  },
  {
   "cell_type": "markdown",
   "metadata": {},
   "source": [
    "### Sentiment analysis using VADER for German lyrics translated into English"
   ]
  },
  {
   "cell_type": "code",
   "execution_count": 54,
   "metadata": {},
   "outputs": [],
   "source": [
    "#Sentiment Analysis using VADER Sentiment Intensity Model\n",
    "\n",
    "#Create lists to store the different scores for each word\n",
    "negative = []\n",
    "neutral = []\n",
    "positive = []\n",
    "compound = []\n",
    "\n",
    "#Initialize the model\n",
    "sid = SentimentIntensityAnalyzer()\n",
    "\n",
    "#Iterate for each row of lyrics and append the scores\n",
    "for i in df_de.index:\n",
    "    scores = sid.polarity_scores(df_de['translation'].iloc[i])\n",
    "    negative.append(scores['neg'])\n",
    "    neutral.append(scores['neu'])\n",
    "    positive.append(scores['pos'])\n",
    "    compound.append(scores['compound'])\n",
    "    \n",
    "#Create 4 columns to the main data frame for each score \n",
    "df_de['negative'] = negative\n",
    "df_de['neutral'] = neutral\n",
    "df_de['positive'] = positive\n",
    "df_de['compound'] = compound"
   ]
  },
  {
   "cell_type": "markdown",
   "metadata": {},
   "source": [
    "#### Create a graphic showing lyric sentiments for all songs"
   ]
  },
  {
   "cell_type": "code",
   "execution_count": 55,
   "metadata": {
    "scrolled": false
   },
   "outputs": [
    {
     "data": {
      "image/png": "[encoded data removed]",
      "text/plain": [
       "<Figure size 576x396 with 1 Axes>"
      ]
     },
     "metadata": {},
     "output_type": "display_data"
    },
    {
     "data": {
      "text/plain": [
       "<Figure size 576x396 with 0 Axes>"
      ]
     },
     "metadata": {},
     "output_type": "display_data"
    }
   ],
   "source": [
    "for name, group in df_de.groupby('year'):\n",
    "    plt.scatter(group['positive'],group['negative'],label=name)\n",
    "    plt.legend(fontsize=10)\n",
    "\n",
    "plt.xlim([-0.05,0.7])\n",
    "plt.ylim([-0.05,0.7])\n",
    "\n",
    "plt.title(\"German Lyrics Sentiments Pre and Post Corona\")\n",
    "plt.xlabel('Positive Valence')\n",
    "plt.ylabel('Negative  Valence')\n",
    "plt.show()\n",
    "\n",
    "plt.savefig('../../graphics/lyric_sentiment_de.png', transparent=False, bbox_inches='tight')"
   ]
  },
  {
   "cell_type": "markdown",
   "metadata": {},
   "source": [
    "#### Create a graphic showing mean lyric sentiments for all songs"
   ]
  },
  {
   "cell_type": "code",
   "execution_count": 56,
   "metadata": {},
   "outputs": [
    {
     "data": {
      "text/html": [
       "<div>\n",
       "<style scoped>\n",
       "    .dataframe tbody tr th:only-of-type {\n",
       "        vertical-align: middle;\n",
       "    }\n",
       "\n",
       "    .dataframe tbody tr th {\n",
       "        vertical-align: top;\n",
       "    }\n",
       "\n",
       "    .dataframe thead th {\n",
       "        text-align: right;\n",
       "    }\n",
       "</style>\n",
       "<table border=\"1\" class=\"dataframe\">\n",
       "  <thead>\n",
       "    <tr style=\"text-align: right;\">\n",
       "      <th></th>\n",
       "      <th>id</th>\n",
       "      <th>negative</th>\n",
       "      <th>neutral</th>\n",
       "      <th>positive</th>\n",
       "      <th>compound</th>\n",
       "    </tr>\n",
       "    <tr>\n",
       "      <th>year</th>\n",
       "      <th></th>\n",
       "      <th></th>\n",
       "      <th></th>\n",
       "      <th></th>\n",
       "      <th></th>\n",
       "    </tr>\n",
       "  </thead>\n",
       "  <tbody>\n",
       "    <tr>\n",
       "      <th>2019</th>\n",
       "      <td>949.645000</td>\n",
       "      <td>0.096295</td>\n",
       "      <td>0.778040</td>\n",
       "      <td>0.125650</td>\n",
       "      <td>0.205661</td>\n",
       "    </tr>\n",
       "    <tr>\n",
       "      <th>2020</th>\n",
       "      <td>1584.263427</td>\n",
       "      <td>0.109476</td>\n",
       "      <td>0.769581</td>\n",
       "      <td>0.120936</td>\n",
       "      <td>0.074014</td>\n",
       "    </tr>\n",
       "  </tbody>\n",
       "</table>\n",
       "</div>"
      ],
      "text/plain": [
       "               id  negative   neutral  positive  compound\n",
       "year                                                     \n",
       "2019   949.645000  0.096295  0.778040  0.125650  0.205661\n",
       "2020  1584.263427  0.109476  0.769581  0.120936  0.074014"
      ]
     },
     "execution_count": 56,
     "metadata": {},
     "output_type": "execute_result"
    }
   ],
   "source": [
    "means_df_de = df_de.groupby(['year']).mean()\n",
    "means_df_de"
   ]
  },
  {
   "cell_type": "code",
   "execution_count": 57,
   "metadata": {
    "scrolled": false
   },
   "outputs": [
    {
     "data": {
      "image/png": "[encoded data removed]",
      "text/plain": [
       "<Figure size 576x396 with 1 Axes>"
      ]
     },
     "metadata": {},
     "output_type": "display_data"
    },
    {
     "data": {
      "text/plain": [
       "<Figure size 576x396 with 0 Axes>"
      ]
     },
     "metadata": {},
     "output_type": "display_data"
    }
   ],
   "source": [
    "for name, group in means_df_de.groupby('year'):\n",
    "    plt.scatter(group['positive'],group['negative'], label=name)\n",
    "    plt.legend()\n",
    "    \n",
    "plt.xlim([-0.05,0.7])\n",
    "plt.ylim([-0.05,0.7])\n",
    "plt.title(\"German Lyrics Mean Sentiments Pre and Post Corona\")\n",
    "plt.xlabel('Positive Valence')\n",
    "plt.ylabel('Negative  Valence')\n",
    "\n",
    "plt.show()\n",
    "\n",
    "plt.savefig('../../graphics/lyric_sentiment_mean_de.png', transparent=False, bbox_inches='tight')"
   ]
  },
  {
   "cell_type": "code",
   "execution_count": 65,
   "metadata": {},
   "outputs": [],
   "source": [
    "df_de.to_pickle('../../files/pickle/df_de_translated.pkl')"
   ]
  },
  {
   "cell_type": "markdown",
   "metadata": {},
   "source": [
    "### Frequency analysis of German lyrics"
   ]
  },
  {
   "cell_type": "code",
   "execution_count": 66,
   "metadata": {},
   "outputs": [],
   "source": [
    "df_de = pd.read_pickle('../../files/pickle/df_de_translated.pkl')"
   ]
  },
  {
   "cell_type": "markdown",
   "metadata": {},
   "source": [
    "#### Split lyrics text into a list of words, remove whitespace, quotes/punctuation and lowercase words in list"
   ]
  },
  {
   "cell_type": "code",
   "execution_count": 67,
   "metadata": {},
   "outputs": [],
   "source": [
    "def gen_clean(x):\n",
    "    \n",
    "    #some cleaning - create table of punctuation from module string \n",
    "    punctable = str.maketrans('', '', string.punctuation)\n",
    "    \n",
    "    #remove punctuation   \n",
    "    x = x.translate(punctable)\n",
    "    \n",
    "    #remove breaks & quotation marks and change words to lower case\n",
    "    x = x.replace('\\n', ' ').replace('„', '').replace('“', '').lower()\n",
    "    \n",
    "    #Split text into words\n",
    "    x = x.split()\n",
    "    \n",
    "    #return cleaned output\n",
    "    return x"
   ]
  },
  {
   "cell_type": "code",
   "execution_count": 68,
   "metadata": {},
   "outputs": [],
   "source": [
    "df_de['words'] = df_de['lyrics'].apply(gen_clean)"
   ]
  },
  {
   "cell_type": "markdown",
   "metadata": {},
   "source": [
    "#### Lemmatize German song lyrics"
   ]
  },
  {
   "cell_type": "code",
   "execution_count": 69,
   "metadata": {},
   "outputs": [
    {
     "name": "stdout",
     "output_type": "stream",
     "text": [
      "Requirement already satisfied: textblob-de in c:\\users\\janek\\.conda\\envs\\butterfly\\lib\\site-packages (0.4.3)\n",
      "Requirement already satisfied: textblob>=0.9.0 in c:\\users\\janek\\.conda\\envs\\butterfly\\lib\\site-packages (from textblob-de) (0.15.3)\n",
      "Requirement already satisfied: nltk>=3.1 in c:\\users\\janek\\.conda\\envs\\butterfly\\lib\\site-packages (from textblob>=0.9.0->textblob-de) (3.5)\n",
      "Requirement already satisfied: regex in c:\\users\\janek\\.conda\\envs\\butterfly\\lib\\site-packages (from nltk>=3.1->textblob>=0.9.0->textblob-de) (2020.10.15)\n",
      "Requirement already satisfied: tqdm in c:\\users\\janek\\.conda\\envs\\butterfly\\lib\\site-packages (from nltk>=3.1->textblob>=0.9.0->textblob-de) (4.54.0)\n",
      "Requirement already satisfied: joblib in c:\\users\\janek\\.conda\\envs\\butterfly\\lib\\site-packages (from nltk>=3.1->textblob>=0.9.0->textblob-de) (0.17.0)\n",
      "Requirement already satisfied: click in c:\\users\\janek\\.conda\\envs\\butterfly\\lib\\site-packages (from nltk>=3.1->textblob>=0.9.0->textblob-de) (7.1.2)\n",
      "Note: you may need to restart the kernel to use updated packages.\n"
     ]
    }
   ],
   "source": [
    "pip install textblob-de"
   ]
  },
  {
   "cell_type": "code",
   "execution_count": 70,
   "metadata": {},
   "outputs": [],
   "source": [
    "from textblob_de import TextBlobDE as TextBlob\n",
    "\n",
    "def textblob_lemmatizer(doclist):\n",
    "    \"\"\"Takes a list of strings as input and returns a list of lemmatized strings\"\"\"\n",
    "    docs=[]\n",
    "    for doc in doclist:\n",
    "        blob = TextBlob(doc)\n",
    "        docs.append(' '.join(list(blob.words.lemmatize())))\n",
    "\n",
    "    return docs"
   ]
  },
  {
   "cell_type": "code",
   "execution_count": 73,
   "metadata": {},
   "outputs": [
    {
     "name": "stderr",
     "output_type": "stream",
     "text": [
      "100%|████████████████████████████████████████████████████████████████████████████████| 791/791 [03:55<00:00,  3.36it/s]\n"
     ]
    }
   ],
   "source": [
    "df_de['lemma'] = df_de['words'].progress_apply(textblob_lemmatizer)"
   ]
  },
  {
   "cell_type": "code",
   "execution_count": 74,
   "metadata": {},
   "outputs": [
    {
     "data": {
      "text/html": [
       "<div>\n",
       "<style scoped>\n",
       "    .dataframe tbody tr th:only-of-type {\n",
       "        vertical-align: middle;\n",
       "    }\n",
       "\n",
       "    .dataframe tbody tr th {\n",
       "        vertical-align: top;\n",
       "    }\n",
       "\n",
       "    .dataframe thead th {\n",
       "        text-align: right;\n",
       "    }\n",
       "</style>\n",
       "<table border=\"1\" class=\"dataframe\">\n",
       "  <thead>\n",
       "    <tr style=\"text-align: right;\">\n",
       "      <th></th>\n",
       "      <th>id</th>\n",
       "      <th>artist</th>\n",
       "      <th>title</th>\n",
       "      <th>year</th>\n",
       "      <th>lyrics</th>\n",
       "      <th>lang</th>\n",
       "      <th>translation</th>\n",
       "      <th>negative</th>\n",
       "      <th>neutral</th>\n",
       "      <th>positive</th>\n",
       "      <th>compound</th>\n",
       "      <th>lemma</th>\n",
       "      <th>words</th>\n",
       "    </tr>\n",
       "  </thead>\n",
       "  <tbody>\n",
       "    <tr>\n",
       "      <th>0</th>\n",
       "      <td>629</td>\n",
       "      <td>LX &amp; Maxwell feat. Bonez MC, Gzuz &amp; Sa4</td>\n",
       "      <td>HaifischNikez Allstars</td>\n",
       "      <td>2019</td>\n",
       "      <td>Frische Sneaker, ja, genauso muss das sein\\nDo...</td>\n",
       "      <td>de</td>\n",
       "      <td>Fresh sneakers, yes, that's how it has to be\\n...</td>\n",
       "      <td>0.089</td>\n",
       "      <td>0.839</td>\n",
       "      <td>0.072</td>\n",
       "      <td>-0.8976</td>\n",
       "      <td>[Frische, Sneaker, ja, genauso, müssen, das, s...</td>\n",
       "      <td>[frische, sneaker, ja, genauso, muss, das, sei...</td>\n",
       "    </tr>\n",
       "    <tr>\n",
       "      <th>1</th>\n",
       "      <td>630</td>\n",
       "      <td>Kerstin Ott &amp; Helene Fischer</td>\n",
       "      <td>Regenbogenfarben</td>\n",
       "      <td>2019</td>\n",
       "      <td>Hast du schon ein'n Regenbogen in schwarz-weiß...</td>\n",
       "      <td>de</td>\n",
       "      <td>Have you already seen a rainbow in black and w...</td>\n",
       "      <td>0.020</td>\n",
       "      <td>0.927</td>\n",
       "      <td>0.053</td>\n",
       "      <td>0.6561</td>\n",
       "      <td>[Hast, du, schon, Einn, Regenbogen, in, Schwar...</td>\n",
       "      <td>[hast, du, schon, einn, regenbogen, in, schwar...</td>\n",
       "    </tr>\n",
       "    <tr>\n",
       "      <th>2</th>\n",
       "      <td>632</td>\n",
       "      <td>Nimo &amp; Capo</td>\n",
       "      <td>Anderes Niveau</td>\n",
       "      <td>2019</td>\n",
       "      <td>Aah (uhh)\\nAah (uhh)\\nAh (uhh)\\nAh, la la la l...</td>\n",
       "      <td>de</td>\n",
       "      <td>Aah (uhh)\\nAah (uhh)\\nAh (uhh)\\nAh, la la la l...</td>\n",
       "      <td>0.118</td>\n",
       "      <td>0.626</td>\n",
       "      <td>0.257</td>\n",
       "      <td>0.9977</td>\n",
       "      <td>[Aah, Uhh, Aah, Uhh, ah, Uhh, ah, La, La, La, ...</td>\n",
       "      <td>[aah, uhh, aah, uhh, ah, uhh, ah, la, la, la, ...</td>\n",
       "    </tr>\n",
       "    <tr>\n",
       "      <th>3</th>\n",
       "      <td>633</td>\n",
       "      <td>Nash &amp; Azet</td>\n",
       "      <td>Crack, Koks, Piece Unternehmen</td>\n",
       "      <td>2019</td>\n",
       "      <td>Millimètres, Minivan\\nDope-Chef, Lucry\\n\\nJa, ...</td>\n",
       "      <td>de</td>\n",
       "      <td>Millimeters, minivan\\nDope boss, Lucry\\n\\nYes,...</td>\n",
       "      <td>0.077</td>\n",
       "      <td>0.839</td>\n",
       "      <td>0.084</td>\n",
       "      <td>0.0634</td>\n",
       "      <td>[Millimètres, Minivan, Dopechef, Lucry, ja, ze...</td>\n",
       "      <td>[millimètres, minivan, dopechef, lucry, ja, zi...</td>\n",
       "    </tr>\n",
       "    <tr>\n",
       "      <th>4</th>\n",
       "      <td>634</td>\n",
       "      <td>Capo feat. Nimo</td>\n",
       "      <td>Lambo Diablo GT</td>\n",
       "      <td>2019</td>\n",
       "      <td>Ahh, ahh, ahh\\nYeah, yeah\\nWua, wua, wua, wua\\...</td>\n",
       "      <td>de</td>\n",
       "      <td>Ahh, ahh, ahh\\nYeah yeah\\nWua, wua, wua, wua\\n...</td>\n",
       "      <td>0.057</td>\n",
       "      <td>0.842</td>\n",
       "      <td>0.100</td>\n",
       "      <td>0.9526</td>\n",
       "      <td>[Ahh, Ahh, Ahh, Yeah, Yeah, Wua, Wua, Wua, Wua...</td>\n",
       "      <td>[ahh, ahh, ahh, yeah, yeah, wua, wua, wua, wua...</td>\n",
       "    </tr>\n",
       "    <tr>\n",
       "      <th>5</th>\n",
       "      <td>640</td>\n",
       "      <td>Farid Bang</td>\n",
       "      <td>#niemalsantäuschen</td>\n",
       "      <td>2019</td>\n",
       "      <td>Luyo\\n\\nHast du Cash und Fame, dann lass' ich ...</td>\n",
       "      <td>de</td>\n",
       "      <td>Luyo\\n\\nIf you have cash and fame, I'll let yo...</td>\n",
       "      <td>0.059</td>\n",
       "      <td>0.767</td>\n",
       "      <td>0.174</td>\n",
       "      <td>0.9966</td>\n",
       "      <td>[Luyo, Hast, du, Cash, und, Fame, dann, lass, ...</td>\n",
       "      <td>[luyo, hast, du, cash, und, fame, dann, lass, ...</td>\n",
       "    </tr>\n",
       "    <tr>\n",
       "      <th>6</th>\n",
       "      <td>641</td>\n",
       "      <td>Fero47</td>\n",
       "      <td>Jaja</td>\n",
       "      <td>2019</td>\n",
       "      <td>Ah!\\n\\nKennst du das, wenn du ganz alleine bis...</td>\n",
       "      <td>de</td>\n",
       "      <td>Ah!\\n\\nDo you know that when you're all alone ...</td>\n",
       "      <td>0.058</td>\n",
       "      <td>0.689</td>\n",
       "      <td>0.253</td>\n",
       "      <td>0.9994</td>\n",
       "      <td>[ah, Kennst, du, das, wenn, du, ganz, Alleine,...</td>\n",
       "      <td>[ah, kennst, du, das, wenn, du, ganz, alleine,...</td>\n",
       "    </tr>\n",
       "    <tr>\n",
       "      <th>7</th>\n",
       "      <td>642</td>\n",
       "      <td>Nimo &amp; Capo</td>\n",
       "      <td>Shem Shem &amp; Sex</td>\n",
       "      <td>2019</td>\n",
       "      <td>Ah! Ladies and gentlemen, welcome to my late-n...</td>\n",
       "      <td>de</td>\n",
       "      <td>Ah! Ladies and gentlemen, welcome to my late-n...</td>\n",
       "      <td>0.016</td>\n",
       "      <td>0.950</td>\n",
       "      <td>0.034</td>\n",
       "      <td>0.8650</td>\n",
       "      <td>[ah, ladies, and, Gentlemen, welcome, to, My, ...</td>\n",
       "      <td>[ah, ladies, and, gentlemen, welcome, to, my, ...</td>\n",
       "    </tr>\n",
       "    <tr>\n",
       "      <th>8</th>\n",
       "      <td>647</td>\n",
       "      <td>Nura x Remoe</td>\n",
       "      <td>SOS</td>\n",
       "      <td>2019</td>\n",
       "      <td>SOS\\nSOS\\nSOS\\nBabe, ich will nur Sex\\n\\nIch r...</td>\n",
       "      <td>de</td>\n",
       "      <td>SOS\\nSOS\\nSOS\\nBabe i just want sex\\n\\nI call ...</td>\n",
       "      <td>0.143</td>\n",
       "      <td>0.796</td>\n",
       "      <td>0.061</td>\n",
       "      <td>-0.9921</td>\n",
       "      <td>[Sos, Sos, Sos, Babe, ich, wollen, nur, Sex, i...</td>\n",
       "      <td>[sos, sos, sos, babe, ich, will, nur, sex, ich...</td>\n",
       "    </tr>\n",
       "    <tr>\n",
       "      <th>9</th>\n",
       "      <td>648</td>\n",
       "      <td>Alligatoah</td>\n",
       "      <td>Nicht wecken (Heute)</td>\n",
       "      <td>2019</td>\n",
       "      <td>Mir steht ein Elefant auf'm Fuß und da kann ma...</td>\n",
       "      <td>de</td>\n",
       "      <td>There's an elephant standing on my feet and th...</td>\n",
       "      <td>0.196</td>\n",
       "      <td>0.712</td>\n",
       "      <td>0.093</td>\n",
       "      <td>-0.9903</td>\n",
       "      <td>[mir, stehen, ein, Elefant, Aufm, Fuss, und, d...</td>\n",
       "      <td>[mir, steht, ein, elefant, aufm, fuß, und, da,...</td>\n",
       "    </tr>\n",
       "  </tbody>\n",
       "</table>\n",
       "</div>"
      ],
      "text/plain": [
       "    id                                   artist  \\\n",
       "0  629  LX & Maxwell feat. Bonez MC, Gzuz & Sa4   \n",
       "1  630             Kerstin Ott & Helene Fischer   \n",
       "2  632                              Nimo & Capo   \n",
       "3  633                              Nash & Azet   \n",
       "4  634                          Capo feat. Nimo   \n",
       "5  640                               Farid Bang   \n",
       "6  641                                   Fero47   \n",
       "7  642                              Nimo & Capo   \n",
       "8  647                             Nura x Remoe   \n",
       "9  648                               Alligatoah   \n",
       "\n",
       "                            title  year  \\\n",
       "0          HaifischNikez Allstars  2019   \n",
       "1                Regenbogenfarben  2019   \n",
       "2                  Anderes Niveau  2019   \n",
       "3  Crack, Koks, Piece Unternehmen  2019   \n",
       "4                 Lambo Diablo GT  2019   \n",
       "5              #niemalsantäuschen  2019   \n",
       "6                            Jaja  2019   \n",
       "7                 Shem Shem & Sex  2019   \n",
       "8                             SOS  2019   \n",
       "9            Nicht wecken (Heute)  2019   \n",
       "\n",
       "                                              lyrics lang  \\\n",
       "0  Frische Sneaker, ja, genauso muss das sein\\nDo...   de   \n",
       "1  Hast du schon ein'n Regenbogen in schwarz-weiß...   de   \n",
       "2  Aah (uhh)\\nAah (uhh)\\nAh (uhh)\\nAh, la la la l...   de   \n",
       "3  Millimètres, Minivan\\nDope-Chef, Lucry\\n\\nJa, ...   de   \n",
       "4  Ahh, ahh, ahh\\nYeah, yeah\\nWua, wua, wua, wua\\...   de   \n",
       "5  Luyo\\n\\nHast du Cash und Fame, dann lass' ich ...   de   \n",
       "6  Ah!\\n\\nKennst du das, wenn du ganz alleine bis...   de   \n",
       "7  Ah! Ladies and gentlemen, welcome to my late-n...   de   \n",
       "8  SOS\\nSOS\\nSOS\\nBabe, ich will nur Sex\\n\\nIch r...   de   \n",
       "9  Mir steht ein Elefant auf'm Fuß und da kann ma...   de   \n",
       "\n",
       "                                         translation  negative  neutral  \\\n",
       "0  Fresh sneakers, yes, that's how it has to be\\n...     0.089    0.839   \n",
       "1  Have you already seen a rainbow in black and w...     0.020    0.927   \n",
       "2  Aah (uhh)\\nAah (uhh)\\nAh (uhh)\\nAh, la la la l...     0.118    0.626   \n",
       "3  Millimeters, minivan\\nDope boss, Lucry\\n\\nYes,...     0.077    0.839   \n",
       "4  Ahh, ahh, ahh\\nYeah yeah\\nWua, wua, wua, wua\\n...     0.057    0.842   \n",
       "5  Luyo\\n\\nIf you have cash and fame, I'll let yo...     0.059    0.767   \n",
       "6  Ah!\\n\\nDo you know that when you're all alone ...     0.058    0.689   \n",
       "7  Ah! Ladies and gentlemen, welcome to my late-n...     0.016    0.950   \n",
       "8  SOS\\nSOS\\nSOS\\nBabe i just want sex\\n\\nI call ...     0.143    0.796   \n",
       "9  There's an elephant standing on my feet and th...     0.196    0.712   \n",
       "\n",
       "   positive  compound                                              lemma  \\\n",
       "0     0.072   -0.8976  [Frische, Sneaker, ja, genauso, müssen, das, s...   \n",
       "1     0.053    0.6561  [Hast, du, schon, Einn, Regenbogen, in, Schwar...   \n",
       "2     0.257    0.9977  [Aah, Uhh, Aah, Uhh, ah, Uhh, ah, La, La, La, ...   \n",
       "3     0.084    0.0634  [Millimètres, Minivan, Dopechef, Lucry, ja, ze...   \n",
       "4     0.100    0.9526  [Ahh, Ahh, Ahh, Yeah, Yeah, Wua, Wua, Wua, Wua...   \n",
       "5     0.174    0.9966  [Luyo, Hast, du, Cash, und, Fame, dann, lass, ...   \n",
       "6     0.253    0.9994  [ah, Kennst, du, das, wenn, du, ganz, Alleine,...   \n",
       "7     0.034    0.8650  [ah, ladies, and, Gentlemen, welcome, to, My, ...   \n",
       "8     0.061   -0.9921  [Sos, Sos, Sos, Babe, ich, wollen, nur, Sex, i...   \n",
       "9     0.093   -0.9903  [mir, stehen, ein, Elefant, Aufm, Fuss, und, d...   \n",
       "\n",
       "                                               words  \n",
       "0  [frische, sneaker, ja, genauso, muss, das, sei...  \n",
       "1  [hast, du, schon, einn, regenbogen, in, schwar...  \n",
       "2  [aah, uhh, aah, uhh, ah, uhh, ah, la, la, la, ...  \n",
       "3  [millimètres, minivan, dopechef, lucry, ja, zi...  \n",
       "4  [ahh, ahh, ahh, yeah, yeah, wua, wua, wua, wua...  \n",
       "5  [luyo, hast, du, cash, und, fame, dann, lass, ...  \n",
       "6  [ah, kennst, du, das, wenn, du, ganz, alleine,...  \n",
       "7  [ah, ladies, and, gentlemen, welcome, to, my, ...  \n",
       "8  [sos, sos, sos, babe, ich, will, nur, sex, ich...  \n",
       "9  [mir, steht, ein, elefant, aufm, fuß, und, da,...  "
      ]
     },
     "execution_count": 74,
     "metadata": {},
     "output_type": "execute_result"
    }
   ],
   "source": [
    "df_de.head(10)"
   ]
  },
  {
   "cell_type": "markdown",
   "metadata": {},
   "source": [
    "#### Create column with lists containing only unique words from lyrics"
   ]
  },
  {
   "cell_type": "code",
   "execution_count": 75,
   "metadata": {},
   "outputs": [],
   "source": [
    "def unique_words(x):\n",
    "    u = list(set(x))\n",
    "    return u"
   ]
  },
  {
   "cell_type": "code",
   "execution_count": 76,
   "metadata": {},
   "outputs": [
    {
     "name": "stderr",
     "output_type": "stream",
     "text": [
      "100%|█████████████████████████████████████████████████████████████████████████████| 791/791 [00:00<00:00, 27347.77it/s]\n"
     ]
    }
   ],
   "source": [
    "df_de['unique_lemma'] = df_de['lemma'].progress_apply(unique_words)"
   ]
  },
  {
   "cell_type": "code",
   "execution_count": 78,
   "metadata": {},
   "outputs": [],
   "source": [
    "def lower(x):\n",
    "    cleaned = [word.lower() for word in x]\n",
    "    return cleaned"
   ]
  },
  {
   "cell_type": "code",
   "execution_count": 79,
   "metadata": {},
   "outputs": [
    {
     "name": "stderr",
     "output_type": "stream",
     "text": [
      "100%|█████████████████████████████████████████████████████████████████████████████| 791/791 [00:00<00:00, 30371.53it/s]\n"
     ]
    }
   ],
   "source": [
    "df_de['unique_lemma'] = df_de['unique_lemma'].progress_apply(lower)"
   ]
  },
  {
   "cell_type": "code",
   "execution_count": 80,
   "metadata": {},
   "outputs": [
    {
     "name": "stderr",
     "output_type": "stream",
     "text": [
      "100%|██████████████████████████████████████████████████████████████████████████████| 791/791 [00:00<00:00, 8662.86it/s]\n"
     ]
    }
   ],
   "source": [
    "df_de['unique_lemma'] = df_de['unique_lemma'].progress_apply(unique_words)"
   ]
  },
  {
   "cell_type": "markdown",
   "metadata": {},
   "source": [
    "#### Remove stopwords from several languages used most frequently in German Charts songs"
   ]
  },
  {
   "cell_type": "code",
   "execution_count": 81,
   "metadata": {},
   "outputs": [],
   "source": [
    "def stopgerman(x):\n",
    "    cleaned = [word for word in x if not word in stopwords.words('german')]\n",
    "    return cleaned"
   ]
  },
  {
   "cell_type": "code",
   "execution_count": 82,
   "metadata": {},
   "outputs": [],
   "source": [
    "def stopenglish(x):\n",
    "    cleaned = [word for word in x if not word in stopwords.words('english')]\n",
    "    return cleaned"
   ]
  },
  {
   "cell_type": "code",
   "execution_count": 83,
   "metadata": {},
   "outputs": [],
   "source": [
    "def stopfrench(x):\n",
    "    cleaned = [word for word in x if not word in stopwords.words('french')]\n",
    "    return cleaned"
   ]
  },
  {
   "cell_type": "code",
   "execution_count": 84,
   "metadata": {},
   "outputs": [],
   "source": [
    "def stopspanish(x):\n",
    "    cleaned = [word for word in x if not word in stopwords.words('spanish')]\n",
    "    return cleaned"
   ]
  },
  {
   "cell_type": "code",
   "execution_count": 85,
   "metadata": {},
   "outputs": [],
   "source": [
    "def stopitalian(x):\n",
    "    cleaned = [word for word in x if not word in stopwords.words('italian')]\n",
    "    return cleaned"
   ]
  },
  {
   "cell_type": "code",
   "execution_count": 86,
   "metadata": {},
   "outputs": [],
   "source": [
    "def stopturkish(x):\n",
    "    cleaned = [word for word in x if not word in stopwords.words('turkish')]\n",
    "    return cleaned"
   ]
  },
  {
   "cell_type": "code",
   "execution_count": 87,
   "metadata": {},
   "outputs": [],
   "source": [
    "def stoparabic(x):\n",
    "    cleaned = [word for word in x if not word in stopwords.words('arabic')]\n",
    "    return cleaned"
   ]
  },
  {
   "cell_type": "code",
   "execution_count": 88,
   "metadata": {
    "scrolled": true
   },
   "outputs": [
    {
     "name": "stderr",
     "output_type": "stream",
     "text": [
      "100%|████████████████████████████████████████████████████████████████████████████████| 791/791 [00:39<00:00, 20.27it/s]\n",
      "100%|████████████████████████████████████████████████████████████████████████████████| 791/791 [00:27<00:00, 29.24it/s]\n",
      "100%|████████████████████████████████████████████████████████████████████████████████| 791/791 [00:27<00:00, 29.11it/s]\n",
      "100%|████████████████████████████████████████████████████████████████████████████████| 791/791 [00:33<00:00, 23.83it/s]\n",
      "100%|████████████████████████████████████████████████████████████████████████████████| 791/791 [00:28<00:00, 27.55it/s]\n"
     ]
    }
   ],
   "source": [
    "#Apply functions to remove stopwords of relevant languages from lyrics\n",
    "df_de['unique_lemma'] = df_de['unique_lemma'].progress_apply(stopgerman)\n",
    "df_de['unique_lemma'] = df_de['unique_lemma'].progress_apply(stopenglish)\n",
    "df_de['unique_lemma'] = df_de['unique_lemma'].progress_apply(stopfrench)\n",
    "df_de['unique_lemma'] = df_de['unique_lemma'].progress_apply(stopspanish)\n",
    "df_de['unique_lemma'] = df_de['unique_lemma'].progress_apply(stopitalian)\n"
   ]
  },
  {
   "cell_type": "markdown",
   "metadata": {},
   "source": [
    "#### How often is Corona mentioned in lyrics?"
   ]
  },
  {
   "cell_type": "code",
   "execution_count": 89,
   "metadata": {},
   "outputs": [],
   "source": [
    "def corona_search(x):\n",
    "    count = 0\n",
    "    for word in x:\n",
    "        if \"corona\" in word:\n",
    "            count += 1\n",
    "    return count"
   ]
  },
  {
   "cell_type": "code",
   "execution_count": 90,
   "metadata": {},
   "outputs": [
    {
     "name": "stderr",
     "output_type": "stream",
     "text": [
      "100%|█████████████████████████████████████████████████████████████████████████████| 791/791 [00:00<00:00, 88154.50it/s]\n"
     ]
    }
   ],
   "source": [
    "df_de['corona'] = df_de['unique_lemma'].progress_apply(corona_search)"
   ]
  },
  {
   "cell_type": "code",
   "execution_count": 91,
   "metadata": {
    "scrolled": true
   },
   "outputs": [
    {
     "name": "stderr",
     "output_type": "stream",
     "text": [
      "100%|████████████████████████████████████████████████████████████████████████████| 791/791 [00:00<00:00, 382575.47it/s]\n"
     ]
    }
   ],
   "source": [
    "df_de['corona'] = df_de['corona'].progress_apply(lambda x: 1 if x > 0 else 0)"
   ]
  },
  {
   "cell_type": "markdown",
   "metadata": {},
   "source": [
    "#### Create dataframes of words used in lyrics per year for word frequency analyis"
   ]
  },
  {
   "cell_type": "code",
   "execution_count": 93,
   "metadata": {},
   "outputs": [],
   "source": [
    "df_de_2019 = df_de[df_de['year'] == 2019]\n",
    "df_de_2020 = df_de[df_de['year'] == 2020]"
   ]
  },
  {
   "cell_type": "code",
   "execution_count": 94,
   "metadata": {},
   "outputs": [],
   "source": [
    "germanlist_2019 = []\n",
    "\n",
    "for song in df_de_2019['unique_lemma']:\n",
    "    germanlist_2019.extend(song)\n",
    "    \n",
    "dict_de_2019 = {'words': germanlist_2019}\n",
    "\n",
    "germanlist_2020 = []\n",
    "\n",
    "for song in df_de_2020['unique_lemma']:\n",
    "    germanlist_2020.extend(song)\n",
    "    \n",
    "dict_de_2020 = {'words': germanlist_2020}"
   ]
  },
  {
   "cell_type": "code",
   "execution_count": 95,
   "metadata": {},
   "outputs": [],
   "source": [
    "wordlist_2019_de = pd.DataFrame(dict_de_2019)\n",
    "wordlist_2020_de = pd.DataFrame(dict_de_2020)"
   ]
  },
  {
   "cell_type": "code",
   "execution_count": 144,
   "metadata": {},
   "outputs": [],
   "source": [
    "wordlist_2019_de.to_csv(\"../../files/csv/germanwords2019.csv\")\n",
    "wordlist_2020_de.to_csv(\"../../files/csv/germanwords2020.csv\")"
   ]
  },
  {
   "cell_type": "code",
   "execution_count": null,
   "metadata": {},
   "outputs": [],
   "source": []
  },
  {
   "cell_type": "markdown",
   "metadata": {},
   "source": [
    "## English Song Analysis"
   ]
  },
  {
   "cell_type": "code",
   "execution_count": 97,
   "metadata": {},
   "outputs": [],
   "source": [
    "df_en = df[(df['lang'] == \"en\")]"
   ]
  },
  {
   "cell_type": "code",
   "execution_count": 98,
   "metadata": {},
   "outputs": [
    {
     "data": {
      "text/plain": [
       "(379, 6)"
      ]
     },
     "execution_count": 98,
     "metadata": {},
     "output_type": "execute_result"
    }
   ],
   "source": [
    "df_en.shape"
   ]
  },
  {
   "cell_type": "code",
   "execution_count": 99,
   "metadata": {},
   "outputs": [
    {
     "data": {
      "text/plain": [
       "2019    194\n",
       "2020    185\n",
       "Name: year, dtype: int64"
      ]
     },
     "execution_count": 99,
     "metadata": {},
     "output_type": "execute_result"
    }
   ],
   "source": [
    "df_en.year.value_counts()"
   ]
  },
  {
   "cell_type": "code",
   "execution_count": 102,
   "metadata": {},
   "outputs": [],
   "source": [
    "df_en = df_en.reset_index(drop=True)"
   ]
  },
  {
   "cell_type": "markdown",
   "metadata": {},
   "source": [
    "### Sentiment analysis using VADER for English lyrics"
   ]
  },
  {
   "cell_type": "code",
   "execution_count": 103,
   "metadata": {},
   "outputs": [],
   "source": [
    "#Sentiment Analysis using VADER Sentiment Intensity Model\n",
    "\n",
    "#Create lists to store the different scores for each word\n",
    "negative = []\n",
    "neutral = []\n",
    "positive = []\n",
    "compound = []\n",
    "\n",
    "#Initialize the model\n",
    "sid = SentimentIntensityAnalyzer()\n",
    "\n",
    "#Iterate for each row of lyrics and append the scores\n",
    "for i in df_en.index:\n",
    "    scores = sid.polarity_scores(df_en['lyrics'].iloc[i])\n",
    "    negative.append(scores['neg'])\n",
    "    neutral.append(scores['neu'])\n",
    "    positive.append(scores['pos'])\n",
    "    compound.append(scores['compound'])\n",
    "    \n",
    "#Create 4 columns to the main data frame for each score \n",
    "df_en['negative'] = negative\n",
    "df_en['neutral'] = neutral\n",
    "df_en['positive'] = positive\n",
    "df_en['compound'] = compound"
   ]
  },
  {
   "cell_type": "markdown",
   "metadata": {},
   "source": [
    "#### Create a graphic showing lyric sentiments for all songs"
   ]
  },
  {
   "cell_type": "code",
   "execution_count": 104,
   "metadata": {
    "scrolled": false
   },
   "outputs": [
    {
     "data": {
      "image/png": "[encoded data removed]",
      "text/plain": [
       "<Figure size 576x396 with 1 Axes>"
      ]
     },
     "metadata": {},
     "output_type": "display_data"
    },
    {
     "data": {
      "text/plain": [
       "<Figure size 576x396 with 0 Axes>"
      ]
     },
     "metadata": {},
     "output_type": "display_data"
    }
   ],
   "source": [
    "for name, group in df_en.groupby('year'):\n",
    "    plt.scatter(group['positive'],group['negative'],label=name)\n",
    "    plt.legend(fontsize=10)\n",
    "\n",
    "plt.xlim([-0.05,0.7])\n",
    "plt.ylim([-0.05,0.7])\n",
    "\n",
    "plt.title(\"English Lyrics Sentiments Pre and Post Corona\")\n",
    "plt.xlabel('Positive Valence')\n",
    "plt.ylabel('Negative  Valence')\n",
    "plt.show()\n",
    "\n",
    "plt.savefig('../../graphics/lyric_sentiment_en.png', transparent=False, bbox_inches='tight')"
   ]
  },
  {
   "cell_type": "markdown",
   "metadata": {},
   "source": [
    "#### Create a graphic showing mean lyric sentiments for all songs"
   ]
  },
  {
   "cell_type": "code",
   "execution_count": 105,
   "metadata": {},
   "outputs": [
    {
     "data": {
      "text/html": [
       "<div>\n",
       "<style scoped>\n",
       "    .dataframe tbody tr th:only-of-type {\n",
       "        vertical-align: middle;\n",
       "    }\n",
       "\n",
       "    .dataframe tbody tr th {\n",
       "        vertical-align: top;\n",
       "    }\n",
       "\n",
       "    .dataframe thead th {\n",
       "        text-align: right;\n",
       "    }\n",
       "</style>\n",
       "<table border=\"1\" class=\"dataframe\">\n",
       "  <thead>\n",
       "    <tr style=\"text-align: right;\">\n",
       "      <th></th>\n",
       "      <th>id</th>\n",
       "      <th>negative</th>\n",
       "      <th>neutral</th>\n",
       "      <th>positive</th>\n",
       "      <th>compound</th>\n",
       "    </tr>\n",
       "    <tr>\n",
       "      <th>year</th>\n",
       "      <th></th>\n",
       "      <th></th>\n",
       "      <th></th>\n",
       "      <th></th>\n",
       "      <th></th>\n",
       "    </tr>\n",
       "  </thead>\n",
       "  <tbody>\n",
       "    <tr>\n",
       "      <th>2019</th>\n",
       "      <td>932.500000</td>\n",
       "      <td>0.100206</td>\n",
       "      <td>0.758067</td>\n",
       "      <td>0.141716</td>\n",
       "      <td>0.325719</td>\n",
       "    </tr>\n",
       "    <tr>\n",
       "      <th>2020</th>\n",
       "      <td>1560.535135</td>\n",
       "      <td>0.098162</td>\n",
       "      <td>0.759703</td>\n",
       "      <td>0.142108</td>\n",
       "      <td>0.258100</td>\n",
       "    </tr>\n",
       "  </tbody>\n",
       "</table>\n",
       "</div>"
      ],
      "text/plain": [
       "               id  negative   neutral  positive  compound\n",
       "year                                                     \n",
       "2019   932.500000  0.100206  0.758067  0.141716  0.325719\n",
       "2020  1560.535135  0.098162  0.759703  0.142108  0.258100"
      ]
     },
     "execution_count": 105,
     "metadata": {},
     "output_type": "execute_result"
    }
   ],
   "source": [
    "means_df_en = df_en.groupby(['year']).mean()\n",
    "means_df_en"
   ]
  },
  {
   "cell_type": "code",
   "execution_count": 106,
   "metadata": {
    "scrolled": false
   },
   "outputs": [
    {
     "data": {
      "image/png": "[encoded data removed]",
      "text/plain": [
       "<Figure size 576x396 with 1 Axes>"
      ]
     },
     "metadata": {},
     "output_type": "display_data"
    },
    {
     "data": {
      "text/plain": [
       "<Figure size 576x396 with 0 Axes>"
      ]
     },
     "metadata": {},
     "output_type": "display_data"
    }
   ],
   "source": [
    "for name, group in means_df_en.groupby('year'):\n",
    "    plt.scatter(group['positive'],group['negative'], label=name)\n",
    "    plt.legend()\n",
    "    \n",
    "plt.xlim([-0.05,0.7])\n",
    "plt.ylim([-0.05,0.7])\n",
    "plt.title(\"English Lyrics Mean Sentiments Pre and Post Corona\")\n",
    "plt.xlabel('Positive Valence')\n",
    "plt.ylabel('Negative  Valence')\n",
    "\n",
    "plt.show()\n",
    "\n",
    "plt.savefig('../../graphics/lyric_sentiment_mean_en.png', transparent=False, bbox_inches='tight')"
   ]
  },
  {
   "cell_type": "code",
   "execution_count": null,
   "metadata": {},
   "outputs": [],
   "source": []
  },
  {
   "cell_type": "markdown",
   "metadata": {},
   "source": [
    "### Frequency analysis of English lyrics"
   ]
  },
  {
   "cell_type": "markdown",
   "metadata": {},
   "source": [
    "#### Split lyrics text into a list of words, remove whitespace, quotes/punctuation and lowercase words in list"
   ]
  },
  {
   "cell_type": "code",
   "execution_count": 107,
   "metadata": {},
   "outputs": [],
   "source": [
    "def gen_clean(x):\n",
    "    \n",
    "    #some cleaning - create table of punctuation from module string \n",
    "    punctable = str.maketrans('', '', string.punctuation)\n",
    "    \n",
    "    #remove punctuation   \n",
    "    x = x.translate(punctable)\n",
    "    \n",
    "    #remove breaks & quotation marks and change words to lower case\n",
    "    x = x.replace('\\n', ' ').replace('„', '').replace('“', '').lower()\n",
    "    \n",
    "    #Split text into words\n",
    "    x = x.split()\n",
    "    \n",
    "    #return cleaned output\n",
    "    return x"
   ]
  },
  {
   "cell_type": "code",
   "execution_count": 108,
   "metadata": {},
   "outputs": [],
   "source": [
    "df_en['words'] = df_en['lyrics'].apply(gen_clean)"
   ]
  },
  {
   "cell_type": "markdown",
   "metadata": {},
   "source": [
    "#### Lemmatize English song lyrics"
   ]
  },
  {
   "cell_type": "code",
   "execution_count": 109,
   "metadata": {},
   "outputs": [],
   "source": [
    "from textblob import TextBlob\n",
    "\n",
    "def textblob_lemmatizer(doclist):\n",
    "    \"\"\"Takes a list of strings as input and returns a list of lemmatized strings\"\"\"\n",
    "    docs=[]\n",
    "    for doc in doclist:\n",
    "        blob = TextBlob(doc)\n",
    "        docs.append(' '.join(list(blob.words.lemmatize())))\n",
    "\n",
    "    return docs"
   ]
  },
  {
   "cell_type": "code",
   "execution_count": 110,
   "metadata": {},
   "outputs": [
    {
     "name": "stderr",
     "output_type": "stream",
     "text": [
      "100%|████████████████████████████████████████████████████████████████████████████████| 379/379 [00:20<00:00, 18.45it/s]\n"
     ]
    }
   ],
   "source": [
    "df_en['lemma'] = df_en['words'].progress_apply(textblob_lemmatizer)"
   ]
  },
  {
   "cell_type": "markdown",
   "metadata": {},
   "source": [
    "#### Create column with lists containing only unique words from lyrics"
   ]
  },
  {
   "cell_type": "code",
   "execution_count": 111,
   "metadata": {},
   "outputs": [],
   "source": [
    "def unique_words(x):\n",
    "    u = list(set(x))\n",
    "    return u"
   ]
  },
  {
   "cell_type": "code",
   "execution_count": 112,
   "metadata": {},
   "outputs": [
    {
     "name": "stderr",
     "output_type": "stream",
     "text": [
      "100%|█████████████████████████████████████████████████████████████████████████████| 379/379 [00:00<00:00, 29233.17it/s]\n"
     ]
    }
   ],
   "source": [
    "df_en['unique_lemma'] = df_en['lemma'].progress_apply(unique_words)"
   ]
  },
  {
   "cell_type": "code",
   "execution_count": 121,
   "metadata": {
    "scrolled": true
   },
   "outputs": [
    {
     "data": {
      "text/plain": [
       "['hmm',\n",
       " 'mhm',\n",
       " 'i',\n",
       " 'dont',\n",
       " 'wanna',\n",
       " 'be',\n",
       " 'alone',\n",
       " 'tonight',\n",
       " 'alone',\n",
       " 'tonight',\n",
       " 'its',\n",
       " 'pretty',\n",
       " 'clear',\n",
       " 'that',\n",
       " 'im',\n",
       " 'not',\n",
       " 'over',\n",
       " 'you',\n",
       " 'over',\n",
       " 'you',\n",
       " 'over',\n",
       " 'you',\n",
       " 'im',\n",
       " 'still',\n",
       " 'thinking',\n",
       " 'bout',\n",
       " 'the',\n",
       " 'things',\n",
       " 'you',\n",
       " 'do',\n",
       " 'things',\n",
       " 'you',\n",
       " 'do',\n",
       " 'so',\n",
       " 'i',\n",
       " 'dont',\n",
       " 'wanna',\n",
       " 'be',\n",
       " 'alone',\n",
       " 'tonight',\n",
       " 'alone',\n",
       " 'tonight',\n",
       " 'alone',\n",
       " 'tonight',\n",
       " 'can',\n",
       " 'you',\n",
       " 'light',\n",
       " 'the',\n",
       " 'fire',\n",
       " 'light',\n",
       " 'the',\n",
       " 'fire',\n",
       " 'light',\n",
       " 'the',\n",
       " 'fire',\n",
       " 'i',\n",
       " 'need',\n",
       " 'somebody',\n",
       " 'who',\n",
       " 'can',\n",
       " 'take',\n",
       " 'control',\n",
       " 'take',\n",
       " 'control',\n",
       " 'i',\n",
       " 'know',\n",
       " 'exactly',\n",
       " 'what',\n",
       " 'i',\n",
       " 'need',\n",
       " 'to',\n",
       " 'do',\n",
       " 'cause',\n",
       " 'i',\n",
       " 'dont',\n",
       " 'wanna',\n",
       " 'be',\n",
       " 'alone',\n",
       " 'tonight',\n",
       " 'alone',\n",
       " 'tonight',\n",
       " 'alone',\n",
       " 'tonight',\n",
       " 'look',\n",
       " 'what',\n",
       " 'you',\n",
       " 'made',\n",
       " 'me',\n",
       " 'do',\n",
       " 'im',\n",
       " 'with',\n",
       " 'somebody',\n",
       " 'new',\n",
       " 'ooh',\n",
       " 'baby',\n",
       " 'baby',\n",
       " 'im',\n",
       " 'dancing',\n",
       " 'with',\n",
       " 'a',\n",
       " 'stranger',\n",
       " 'look',\n",
       " 'what',\n",
       " 'you',\n",
       " 'made',\n",
       " 'me',\n",
       " 'do',\n",
       " 'im',\n",
       " 'with',\n",
       " 'somebody',\n",
       " 'new',\n",
       " 'ooh',\n",
       " 'baby',\n",
       " 'baby',\n",
       " 'im',\n",
       " 'dancing',\n",
       " 'with',\n",
       " 'a',\n",
       " 'stranger',\n",
       " 'dancing',\n",
       " 'with',\n",
       " 'a',\n",
       " 'stranger',\n",
       " 'i',\n",
       " 'wasnt',\n",
       " 'even',\n",
       " 'going',\n",
       " 'out',\n",
       " 'tonight',\n",
       " 'out',\n",
       " 'tonight',\n",
       " 'but',\n",
       " 'boy',\n",
       " 'i',\n",
       " 'need',\n",
       " 'to',\n",
       " 'get',\n",
       " 'you',\n",
       " 'off',\n",
       " 'of',\n",
       " 'my',\n",
       " 'mind',\n",
       " 'off',\n",
       " 'of',\n",
       " 'my',\n",
       " 'mind',\n",
       " 'i',\n",
       " 'know',\n",
       " 'exactly',\n",
       " 'what',\n",
       " 'i',\n",
       " 'have',\n",
       " 'to',\n",
       " 'do',\n",
       " 'i',\n",
       " 'dont',\n",
       " 'wanna',\n",
       " 'be',\n",
       " 'alone',\n",
       " 'tonight',\n",
       " 'alone',\n",
       " 'tonight',\n",
       " 'alone',\n",
       " 'tonight',\n",
       " 'look',\n",
       " 'what',\n",
       " 'you',\n",
       " 'made',\n",
       " 'me',\n",
       " 'do',\n",
       " 'im',\n",
       " 'with',\n",
       " 'somebody',\n",
       " 'new',\n",
       " 'ooh',\n",
       " 'baby',\n",
       " 'baby',\n",
       " 'im',\n",
       " 'dancing',\n",
       " 'with',\n",
       " 'a',\n",
       " 'stranger',\n",
       " 'look',\n",
       " 'what',\n",
       " 'you',\n",
       " 'made',\n",
       " 'me',\n",
       " 'do',\n",
       " 'im',\n",
       " 'with',\n",
       " 'somebody',\n",
       " 'new',\n",
       " 'ooh',\n",
       " 'baby',\n",
       " 'baby',\n",
       " 'im',\n",
       " 'dancing',\n",
       " 'with',\n",
       " 'a',\n",
       " 'stranger',\n",
       " 'dancing',\n",
       " 'with',\n",
       " 'a',\n",
       " 'stranger',\n",
       " 'dancing',\n",
       " 'with',\n",
       " 'a',\n",
       " 'stranger',\n",
       " 'dancing',\n",
       " 'yeah',\n",
       " 'ooh',\n",
       " 'look',\n",
       " 'what',\n",
       " 'you',\n",
       " 'made',\n",
       " 'me',\n",
       " 'do',\n",
       " 'im',\n",
       " 'with',\n",
       " 'somebody',\n",
       " 'new',\n",
       " 'ooh',\n",
       " 'ooh',\n",
       " 'baby',\n",
       " 'baby',\n",
       " 'im',\n",
       " 'dancing',\n",
       " 'with',\n",
       " 'a',\n",
       " 'stranger',\n",
       " 'look',\n",
       " 'what',\n",
       " 'you',\n",
       " 'made',\n",
       " 'me',\n",
       " 'do',\n",
       " 'im',\n",
       " 'with',\n",
       " 'somebody',\n",
       " 'new',\n",
       " 'ooh',\n",
       " 'baby',\n",
       " 'baby',\n",
       " 'im',\n",
       " 'dancing',\n",
       " 'with',\n",
       " 'a',\n",
       " 'stranger',\n",
       " 'im',\n",
       " 'dancing',\n",
       " 'im',\n",
       " 'dancing',\n",
       " 'ooh',\n",
       " 'im',\n",
       " 'dancing',\n",
       " 'im',\n",
       " 'dancing',\n",
       " 'dancing',\n",
       " 'with',\n",
       " 'a',\n",
       " 'stranger',\n",
       " 'im',\n",
       " 'dancing',\n",
       " 'im',\n",
       " 'dancing',\n",
       " 'dancing',\n",
       " 'with',\n",
       " 'a',\n",
       " 'stranger',\n",
       " 'im',\n",
       " 'dancing',\n",
       " 'im',\n",
       " 'dancing',\n",
       " 'dancing',\n",
       " 'with',\n",
       " 'a',\n",
       " 'stranger']"
      ]
     },
     "execution_count": 121,
     "metadata": {},
     "output_type": "execute_result"
    }
   ],
   "source": [
    "df_en['words'].iloc[7]"
   ]
  },
  {
   "cell_type": "code",
   "execution_count": 114,
   "metadata": {},
   "outputs": [],
   "source": [
    "def lower(x):\n",
    "    cleaned = [word.lower() for word in x]\n",
    "    return cleaned"
   ]
  },
  {
   "cell_type": "code",
   "execution_count": 115,
   "metadata": {},
   "outputs": [
    {
     "name": "stderr",
     "output_type": "stream",
     "text": [
      "100%|█████████████████████████████████████████████████████████████████████████████| 379/379 [00:00<00:00, 34426.45it/s]\n"
     ]
    }
   ],
   "source": [
    "df_en['unique_lemma'] = df_en['unique_lemma'].progress_apply(lower)"
   ]
  },
  {
   "cell_type": "code",
   "execution_count": 116,
   "metadata": {},
   "outputs": [
    {
     "name": "stderr",
     "output_type": "stream",
     "text": [
      "100%|█████████████████████████████████████████████████████████████████████████████| 379/379 [00:00<00:00, 62981.03it/s]\n"
     ]
    }
   ],
   "source": [
    "df_en['unique_lemma'] = df_en['unique_lemma'].progress_apply(unique_words)"
   ]
  },
  {
   "cell_type": "markdown",
   "metadata": {},
   "source": [
    "#### Remove stopwords from several languages used most frequently in German Charts songs"
   ]
  },
  {
   "cell_type": "code",
   "execution_count": 122,
   "metadata": {},
   "outputs": [],
   "source": [
    "def stopgerman(x):\n",
    "    cleaned = [word for word in x if not word in stopwords.words('german')]\n",
    "    return cleaned"
   ]
  },
  {
   "cell_type": "code",
   "execution_count": 123,
   "metadata": {},
   "outputs": [],
   "source": [
    "def stopenglish(x):\n",
    "    cleaned = [word for word in x if not word in stopwords.words('english')]\n",
    "    return cleaned"
   ]
  },
  {
   "cell_type": "code",
   "execution_count": 124,
   "metadata": {},
   "outputs": [],
   "source": [
    "def stopfrench(x):\n",
    "    cleaned = [word for word in x if not word in stopwords.words('french')]\n",
    "    return cleaned"
   ]
  },
  {
   "cell_type": "code",
   "execution_count": 125,
   "metadata": {},
   "outputs": [],
   "source": [
    "def stopspanish(x):\n",
    "    cleaned = [word for word in x if not word in stopwords.words('spanish')]\n",
    "    return cleaned"
   ]
  },
  {
   "cell_type": "code",
   "execution_count": 126,
   "metadata": {},
   "outputs": [],
   "source": [
    "def stopitalian(x):\n",
    "    cleaned = [word for word in x if not word in stopwords.words('italian')]\n",
    "    return cleaned"
   ]
  },
  {
   "cell_type": "code",
   "execution_count": 127,
   "metadata": {},
   "outputs": [],
   "source": [
    "def stopturkish(x):\n",
    "    cleaned = [word for word in x if not word in stopwords.words('turkish')]\n",
    "    return cleaned"
   ]
  },
  {
   "cell_type": "code",
   "execution_count": 128,
   "metadata": {},
   "outputs": [],
   "source": [
    "def stoparabic(x):\n",
    "    cleaned = [word for word in x if not word in stopwords.words('arabic')]\n",
    "    return cleaned"
   ]
  },
  {
   "cell_type": "code",
   "execution_count": 129,
   "metadata": {
    "scrolled": false
   },
   "outputs": [
    {
     "name": "stderr",
     "output_type": "stream",
     "text": [
      "100%|████████████████████████████████████████████████████████████████████████████████| 379/379 [00:12<00:00, 30.67it/s]\n",
      "100%|████████████████████████████████████████████████████████████████████████████████| 379/379 [00:13<00:00, 27.19it/s]\n",
      "100%|████████████████████████████████████████████████████████████████████████████████| 379/379 [00:09<00:00, 39.03it/s]\n",
      "100%|████████████████████████████████████████████████████████████████████████████████| 379/379 [00:13<00:00, 28.98it/s]\n",
      "100%|████████████████████████████████████████████████████████████████████████████████| 379/379 [00:12<00:00, 30.99it/s]\n",
      "100%|████████████████████████████████████████████████████████████████████████████████| 379/379 [00:08<00:00, 43.13it/s]\n",
      "100%|████████████████████████████████████████████████████████████████████████████████| 379/379 [00:11<00:00, 33.55it/s]\n"
     ]
    }
   ],
   "source": [
    "#Apply functions to remove stopwords of relevant languages from lyrics\n",
    "df_en['unique_lemma'] = df_en['unique_lemma'].progress_apply(stopgerman)\n",
    "df_en['unique_lemma'] = df_en['unique_lemma'].progress_apply(stopenglish)\n",
    "df_en['unique_lemma'] = df_en['unique_lemma'].progress_apply(stopfrench)\n",
    "df_en['unique_lemma'] = df_en['unique_lemma'].progress_apply(stopspanish)\n",
    "df_en['unique_lemma'] = df_en['unique_lemma'].progress_apply(stopitalian)\n",
    "df_en['unique_lemma'] = df_en['unique_lemma'].progress_apply(stopturkish)\n",
    "df_en['unique_lemma'] = df_en['unique_lemma'].progress_apply(stoparabic)\n"
   ]
  },
  {
   "cell_type": "markdown",
   "metadata": {},
   "source": [
    "#### How often is Corona mentioned in lyrics?"
   ]
  },
  {
   "cell_type": "code",
   "execution_count": 130,
   "metadata": {},
   "outputs": [],
   "source": [
    "def corona_search(x):\n",
    "    count = 0\n",
    "    for word in x:\n",
    "        if \"corona\" in word:\n",
    "            count += 1\n",
    "    return count"
   ]
  },
  {
   "cell_type": "code",
   "execution_count": 131,
   "metadata": {},
   "outputs": [
    {
     "name": "stderr",
     "output_type": "stream",
     "text": [
      "100%|████████████████████████████████████████████████████████████████████████████| 379/379 [00:00<00:00, 125902.20it/s]\n"
     ]
    }
   ],
   "source": [
    "df_en['corona'] = df_en['unique_lemma'].progress_apply(corona_search)"
   ]
  },
  {
   "cell_type": "code",
   "execution_count": 132,
   "metadata": {
    "scrolled": true
   },
   "outputs": [
    {
     "name": "stderr",
     "output_type": "stream",
     "text": [
      "100%|████████████████████████████████████████████████████████████████████████████| 379/379 [00:00<00:00, 370200.56it/s]\n"
     ]
    }
   ],
   "source": [
    "df_en['corona'] = df_en['corona'].progress_apply(lambda x: 1 if x > 0 else 0)"
   ]
  },
  {
   "cell_type": "markdown",
   "metadata": {},
   "source": [
    "#### Create dataframes of words used in lyrics per year for word frequency analyis"
   ]
  },
  {
   "cell_type": "code",
   "execution_count": 137,
   "metadata": {},
   "outputs": [],
   "source": [
    "df_en_2019 = df_en[df_en['year'] == 2019]\n",
    "df_en_2020 = df_en[df_en['year'] == 2020]"
   ]
  },
  {
   "cell_type": "code",
   "execution_count": 138,
   "metadata": {},
   "outputs": [],
   "source": [
    "englishlist_2019 = []\n",
    "\n",
    "for song in df_en_2019['unique_lemma']:\n",
    "    englishlist_2019.extend(song)\n",
    "    \n",
    "dict_en_2019 = {'words': englishlist_2019}\n",
    "\n",
    "englishlist_2020 = []\n",
    "\n",
    "for song in df_en_2020['unique_lemma']:\n",
    "    englishlist_2020.extend(song)\n",
    "    \n",
    "dict_en_2020 = {'words': englishlist_2020}"
   ]
  },
  {
   "cell_type": "code",
   "execution_count": 139,
   "metadata": {},
   "outputs": [],
   "source": [
    "wordlist_2019_en = pd.DataFrame(dict_en_2019)\n",
    "wordlist_2020_en = pd.DataFrame(dict_en_2020)"
   ]
  },
  {
   "cell_type": "code",
   "execution_count": 141,
   "metadata": {},
   "outputs": [],
   "source": [
    "wordlist_2019_en.to_csv(\"../../files/csv/englishwords2019.csv\")\n",
    "wordlist_2020_en.to_csv(\"../../files/csv/englishwords2020.csv\")"
   ]
  },
  {
   "cell_type": "code",
   "execution_count": null,
   "metadata": {},
   "outputs": [],
   "source": []
  },
  {
   "cell_type": "code",
   "execution_count": null,
   "metadata": {},
   "outputs": [],
   "source": [
    "### Frequency analysis for English lyrics"
   ]
  },
  {
   "cell_type": "code",
   "execution_count": 142,
   "metadata": {
    "scrolled": false
   },
   "outputs": [
    {
     "data": {
      "text/plain": [
       "[('like', 122),\n",
       " ('dont', 122),\n",
       " ('know', 116),\n",
       " ('yeah', 108),\n",
       " ('love', 99),\n",
       " ('go', 96),\n",
       " ('oh', 91),\n",
       " ('got', 86),\n",
       " ('get', 84),\n",
       " ('one', 83),\n",
       " ('cause', 82),\n",
       " ('never', 77),\n",
       " ('cant', 76),\n",
       " ('time', 74),\n",
       " ('let', 74),\n",
       " ('want', 73),\n",
       " ('youre', 71),\n",
       " ('need', 70),\n",
       " ('wan na', 70),\n",
       " ('say', 69),\n",
       " ('take', 68),\n",
       " ('baby', 67),\n",
       " ('back', 64),\n",
       " ('see', 61),\n",
       " ('wa', 61),\n",
       " ('way', 61),\n",
       " ('make', 61),\n",
       " ('aint', 55),\n",
       " ('feel', 54),\n",
       " ('thing', 51),\n",
       " ('ill', 50),\n",
       " ('think', 50),\n",
       " ('night', 49),\n",
       " ('tell', 48),\n",
       " ('day', 45),\n",
       " ('life', 45),\n",
       " ('keep', 44),\n",
       " ('look', 44),\n",
       " ('good', 44),\n",
       " ('could', 43),\n",
       " ('thats', 43),\n",
       " ('girl', 42),\n",
       " ('give', 42),\n",
       " ('said', 40),\n",
       " ('still', 40),\n",
       " ('even', 40),\n",
       " ('right', 39),\n",
       " ('eye', 38),\n",
       " ('ive', 37),\n",
       " ('heart', 37),\n",
       " ('call', 36),\n",
       " ('gon na', 36),\n",
       " ('mind', 36),\n",
       " ('ooh', 35),\n",
       " ('friend', 34),\n",
       " ('well', 34),\n",
       " ('leave', 34),\n",
       " ('show', 33),\n",
       " ('shit', 33),\n",
       " ('away', 33),\n",
       " ('got ta', 33),\n",
       " ('around', 33),\n",
       " ('nothing', 32),\n",
       " ('light', 32),\n",
       " ('every', 31),\n",
       " ('alone', 31),\n",
       " ('always', 30),\n",
       " ('little', 30),\n",
       " ('bad', 30),\n",
       " ('stay', 30)]"
      ]
     },
     "execution_count": 142,
     "metadata": {},
     "output_type": "execute_result"
    }
   ],
   "source": [
    "#count freq of words in lyrics of 2019\n",
    "\n",
    "from nltk.probability import FreqDist\n",
    "\n",
    "fdistlyrics2019 = FreqDist(wordlist_2019_en['words'])\n",
    "fdistlyrics2019.most_common(70)\n"
   ]
  },
  {
   "cell_type": "code",
   "execution_count": 143,
   "metadata": {},
   "outputs": [
    {
     "data": {
      "text/plain": [
       "[('dont', 120),\n",
       " ('like', 115),\n",
       " ('yeah', 115),\n",
       " ('know', 113),\n",
       " ('got', 94),\n",
       " ('cause', 92),\n",
       " ('get', 91),\n",
       " ('oh', 86),\n",
       " ('love', 84),\n",
       " ('go', 79),\n",
       " ('never', 78),\n",
       " ('one', 72),\n",
       " ('time', 70),\n",
       " ('wan na', 69),\n",
       " ('youre', 69),\n",
       " ('cant', 69),\n",
       " ('wa', 68),\n",
       " ('make', 67),\n",
       " ('let', 67),\n",
       " ('need', 67),\n",
       " ('feel', 66),\n",
       " ('baby', 63),\n",
       " ('see', 62),\n",
       " ('tell', 61),\n",
       " ('say', 57),\n",
       " ('want', 56),\n",
       " ('way', 56),\n",
       " ('back', 56),\n",
       " ('take', 55),\n",
       " ('ill', 55),\n",
       " ('aint', 53),\n",
       " ('right', 52),\n",
       " ('keep', 47),\n",
       " ('night', 45),\n",
       " ('day', 45),\n",
       " ('thing', 42),\n",
       " ('every', 41),\n",
       " ('heart', 40),\n",
       " ('even', 39),\n",
       " ('look', 39),\n",
       " ('ooh', 39),\n",
       " ('give', 39),\n",
       " ('think', 39),\n",
       " ('said', 38),\n",
       " ('girl', 38),\n",
       " ('always', 38),\n",
       " ('could', 38),\n",
       " ('ive', 37),\n",
       " ('bitch', 37),\n",
       " ('thats', 37),\n",
       " ('life', 36),\n",
       " ('mind', 36),\n",
       " ('wont', 36),\n",
       " ('stay', 35),\n",
       " ('shit', 35),\n",
       " ('bad', 34),\n",
       " ('put', 34),\n",
       " ('feeling', 34),\n",
       " ('eye', 33),\n",
       " ('really', 33),\n",
       " ('fuck', 33),\n",
       " ('uh', 33),\n",
       " ('got ta', 32),\n",
       " ('ever', 32),\n",
       " ('high', 32),\n",
       " ('told', 32),\n",
       " ('leave', 32),\n",
       " ('call', 31),\n",
       " ('good', 31),\n",
       " ('face', 31)]"
      ]
     },
     "execution_count": 143,
     "metadata": {},
     "output_type": "execute_result"
    }
   ],
   "source": [
    "#count freq of words in lyrics of 2020\n",
    "\n",
    "from nltk.probability import FreqDist\n",
    "\n",
    "fdistlyrics2020 = FreqDist(wordlist_2020_en['words'])\n",
    "fdistlyrics2020.most_common(70)\n"
   ]
  },
  {
   "cell_type": "code",
   "execution_count": null,
   "metadata": {},
   "outputs": [],
   "source": []
  }
 ],
 "metadata": {
  "kernelspec": {
   "display_name": "Python 3",
   "language": "python",
   "name": "python3"
  },
  "language_info": {
   "codemirror_mode": {
    "name": "ipython",
    "version": 3
   },
   "file_extension": ".py",
   "mimetype": "text/x-python",
   "name": "python",
   "nbconvert_exporter": "python",
   "pygments_lexer": "ipython3",
   "version": "3.8.5"
  }
 },
 "nbformat": 4,
 "nbformat_minor": 4
}
