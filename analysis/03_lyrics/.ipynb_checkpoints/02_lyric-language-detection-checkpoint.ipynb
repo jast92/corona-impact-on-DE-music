{
 "cells": [
  {
   "cell_type": "code",
   "execution_count": 1,
   "metadata": {},
   "outputs": [],
   "source": [
    "import pandas as pd\n",
    "import numpy as np\n",
    "import re\n",
    "\n",
    "from tqdm import tqdm\n",
    "from langdetect import detect, DetectorFactory\n",
    "\n",
    "#pd.set_option('display.max_columns', None)\n",
    "#pd.set_option('display.max_rows', None)"
   ]
  },
  {
   "cell_type": "code",
   "execution_count": 2,
   "metadata": {},
   "outputs": [],
   "source": [
    "lyrical = pd.read_pickle(\"../../files/pickle/lyrics.pkl\")"
   ]
  },
  {
   "cell_type": "code",
   "execution_count": 3,
   "metadata": {},
   "outputs": [],
   "source": [
    "lyrical = lyrical[['id', 'artist', 'title', 'year', 'lyrics']]"
   ]
  },
  {
   "cell_type": "code",
   "execution_count": 5,
   "metadata": {},
   "outputs": [
    {
     "data": {
      "text/html": [
       "<div>\n",
       "<style scoped>\n",
       "    .dataframe tbody tr th:only-of-type {\n",
       "        vertical-align: middle;\n",
       "    }\n",
       "\n",
       "    .dataframe tbody tr th {\n",
       "        vertical-align: top;\n",
       "    }\n",
       "\n",
       "    .dataframe thead th {\n",
       "        text-align: right;\n",
       "    }\n",
       "</style>\n",
       "<table border=\"1\" class=\"dataframe\">\n",
       "  <thead>\n",
       "    <tr style=\"text-align: right;\">\n",
       "      <th></th>\n",
       "      <th>id</th>\n",
       "      <th>artist</th>\n",
       "      <th>title</th>\n",
       "      <th>year</th>\n",
       "      <th>lyrics</th>\n",
       "    </tr>\n",
       "  </thead>\n",
       "  <tbody>\n",
       "    <tr>\n",
       "      <th>0</th>\n",
       "      <td>1</td>\n",
       "      <td>Kollegah &amp; Farid Bang</td>\n",
       "      <td>One Night Stand</td>\n",
       "      <td>2018</td>\n",
       "      <td>Fass' dich an, frag', „Ist die Brust da echt?“...</td>\n",
       "    </tr>\n",
       "    <tr>\n",
       "      <th>1</th>\n",
       "      <td>2</td>\n",
       "      <td>Bausa</td>\n",
       "      <td>FML</td>\n",
       "      <td>2018</td>\n",
       "      <td>Ouh-oh-oh-ouh-ouh\\nBaby, ich weiß, was du will...</td>\n",
       "    </tr>\n",
       "    <tr>\n",
       "      <th>2</th>\n",
       "      <td>3</td>\n",
       "      <td>Jazn</td>\n",
       "      <td>Bombay</td>\n",
       "      <td>2018</td>\n",
       "      <td>Jajajaja\\nOhh, kippe Bombay\\nJaja, jaja, ohh\\n...</td>\n",
       "    </tr>\n",
       "    <tr>\n",
       "      <th>3</th>\n",
       "      <td>4</td>\n",
       "      <td>Tom Walker</td>\n",
       "      <td>Leave A Light On</td>\n",
       "      <td>2018</td>\n",
       "      <td>The second someone mentioned you were all alon...</td>\n",
       "    </tr>\n",
       "    <tr>\n",
       "      <th>4</th>\n",
       "      <td>5</td>\n",
       "      <td>G-Eazy feat. A$AP Rocky &amp; Cardi B</td>\n",
       "      <td>No Limit</td>\n",
       "      <td>2018</td>\n",
       "      <td>If I hit it one time, I'ma pipe her\\nIf I hit ...</td>\n",
       "    </tr>\n",
       "    <tr>\n",
       "      <th>...</th>\n",
       "      <td>...</td>\n",
       "      <td>...</td>\n",
       "      <td>...</td>\n",
       "      <td>...</td>\n",
       "      <td>...</td>\n",
       "    </tr>\n",
       "    <tr>\n",
       "      <th>1863</th>\n",
       "      <td>1864</td>\n",
       "      <td>Reezy feat. Nimo</td>\n",
       "      <td>Trance</td>\n",
       "      <td>2020</td>\n",
       "      <td>Ich wart' seit Tagen auf dich, bis du wieder k...</td>\n",
       "    </tr>\n",
       "    <tr>\n",
       "      <th>1864</th>\n",
       "      <td>1865</td>\n",
       "      <td>Loredana</td>\n",
       "      <td>Gangster</td>\n",
       "      <td>2020</td>\n",
       "      <td>Miksu\\nMacloud\\n\\nDu sagst, du bist ein Gangst...</td>\n",
       "    </tr>\n",
       "    <tr>\n",
       "      <th>1865</th>\n",
       "      <td>1866</td>\n",
       "      <td>Lil Nas X</td>\n",
       "      <td>Holiday</td>\n",
       "      <td>2020</td>\n",
       "      <td>T-T-Tay Keith, Took it to ten (Hey)\\n\\nAyy, it...</td>\n",
       "    </tr>\n",
       "    <tr>\n",
       "      <th>1866</th>\n",
       "      <td>1867</td>\n",
       "      <td>Studio Killers</td>\n",
       "      <td>Jenny</td>\n",
       "      <td>2020</td>\n",
       "      <td>Jenny, darling, you're my best friend\\nBut the...</td>\n",
       "    </tr>\n",
       "    <tr>\n",
       "      <th>1867</th>\n",
       "      <td>1868</td>\n",
       "      <td>Michael Bublé</td>\n",
       "      <td>White Christmas</td>\n",
       "      <td>2020</td>\n",
       "      <td>I'm dreaming of a white Christmas\\nJust like t...</td>\n",
       "    </tr>\n",
       "  </tbody>\n",
       "</table>\n",
       "<p>1868 rows × 5 columns</p>\n",
       "</div>"
      ],
      "text/plain": [
       "        id                             artist             title  year  \\\n",
       "0        1              Kollegah & Farid Bang   One Night Stand  2018   \n",
       "1        2                              Bausa               FML  2018   \n",
       "2        3                               Jazn            Bombay  2018   \n",
       "3        4                         Tom Walker  Leave A Light On  2018   \n",
       "4        5  G-Eazy feat. A$AP Rocky & Cardi B          No Limit  2018   \n",
       "...    ...                                ...               ...   ...   \n",
       "1863  1864                   Reezy feat. Nimo            Trance  2020   \n",
       "1864  1865                           Loredana          Gangster  2020   \n",
       "1865  1866                          Lil Nas X           Holiday  2020   \n",
       "1866  1867                     Studio Killers             Jenny  2020   \n",
       "1867  1868                      Michael Bublé   White Christmas  2020   \n",
       "\n",
       "                                                 lyrics  \n",
       "0     Fass' dich an, frag', „Ist die Brust da echt?“...  \n",
       "1     Ouh-oh-oh-ouh-ouh\\nBaby, ich weiß, was du will...  \n",
       "2     Jajajaja\\nOhh, kippe Bombay\\nJaja, jaja, ohh\\n...  \n",
       "3     The second someone mentioned you were all alon...  \n",
       "4     If I hit it one time, I'ma pipe her\\nIf I hit ...  \n",
       "...                                                 ...  \n",
       "1863  Ich wart' seit Tagen auf dich, bis du wieder k...  \n",
       "1864  Miksu\\nMacloud\\n\\nDu sagst, du bist ein Gangst...  \n",
       "1865  T-T-Tay Keith, Took it to ten (Hey)\\n\\nAyy, it...  \n",
       "1866  Jenny, darling, you're my best friend\\nBut the...  \n",
       "1867  I'm dreaming of a white Christmas\\nJust like t...  \n",
       "\n",
       "[1868 rows x 5 columns]"
      ]
     },
     "execution_count": 5,
     "metadata": {},
     "output_type": "execute_result"
    }
   ],
   "source": [
    "lyrical"
   ]
  },
  {
   "cell_type": "code",
   "execution_count": 6,
   "metadata": {},
   "outputs": [
    {
     "name": "stderr",
     "output_type": "stream",
     "text": [
      "100%|██████████████████████████████████████████████████████████████████████████████| 1868/1868 [01:01<00:00, 30.48it/s]\n"
     ]
    }
   ],
   "source": [
    "lang = []\n",
    "\n",
    "for lyric in tqdm(lyrical['lyrics']):\n",
    "    try:\n",
    "        DetectorFactory.seed = 0\n",
    "        l = detect(lyric)\n",
    "    except:\n",
    "        l = np.nan\n",
    "    lang.append(l)"
   ]
  },
  {
   "cell_type": "code",
   "execution_count": 7,
   "metadata": {},
   "outputs": [],
   "source": [
    "lyrical['lang'] = lang"
   ]
  },
  {
   "cell_type": "code",
   "execution_count": 8,
   "metadata": {},
   "outputs": [
    {
     "data": {
      "text/plain": [
       "de    1104\n",
       "en     658\n",
       "es      18\n",
       "fr      16\n",
       "sq       8\n",
       "it       6\n",
       "tr       6\n",
       "nl       3\n",
       "ca       3\n",
       "sw       2\n",
       "hr       2\n",
       "id       2\n",
       "ro       1\n",
       "he       1\n",
       "pl       1\n",
       "tl       1\n",
       "lv       1\n",
       "fa       1\n",
       "sv       1\n",
       "Name: lang, dtype: int64"
      ]
     },
     "execution_count": 8,
     "metadata": {},
     "output_type": "execute_result"
    }
   ],
   "source": [
    "lyrical['lang'].value_counts()"
   ]
  },
  {
   "cell_type": "code",
   "execution_count": 9,
   "metadata": {},
   "outputs": [
    {
     "data": {
      "text/plain": [
       "3       The second someone mentioned you were all alon...\n",
       "4       If I hit it one time, I'ma pipe her\\nIf I hit ...\n",
       "5       Justin Timberlake - Filthy\\nKendrick Lamar & S...\n",
       "6       Drop top Porsche (Porsche), Rollie on my wrist...\n",
       "7       Hey, if you know what's good\\nIf you know what...\n",
       "                              ...                        \n",
       "1857    📝 Canciones 📝• 3rajean – Lokisimo\\n• 3rajean –...\n",
       "1862    Geenaro\\nSo, I'm going to Ghana\\n\\nDiamond-Cha...\n",
       "1865    T-T-Tay Keith, Took it to ten (Hey)\\n\\nAyy, it...\n",
       "1866    Jenny, darling, you're my best friend\\nBut the...\n",
       "1867    I'm dreaming of a white Christmas\\nJust like t...\n",
       "Name: lyrics, Length: 658, dtype: object"
      ]
     },
     "execution_count": 9,
     "metadata": {},
     "output_type": "execute_result"
    }
   ],
   "source": [
    "lyrical[(lyrical['lang'] == 'en')]['lyrics']"
   ]
  },
  {
   "cell_type": "code",
   "execution_count": 10,
   "metadata": {},
   "outputs": [],
   "source": [
    "lyrical.to_csv(\"../../files/csv/lyricsenhanced.csv\")\n",
    "lyrical.to_pickle(\"../../files/pickle/lyricsenhanced.pkl\")"
   ]
  },
  {
   "cell_type": "code",
   "execution_count": null,
   "metadata": {},
   "outputs": [],
   "source": []
  }
 ],
 "metadata": {
  "kernelspec": {
   "display_name": "Python 3",
   "language": "python",
   "name": "python3"
  },
  "language_info": {
   "codemirror_mode": {
    "name": "ipython",
    "version": 3
   },
   "file_extension": ".py",
   "mimetype": "text/x-python",
   "name": "python",
   "nbconvert_exporter": "python",
   "pygments_lexer": "ipython3",
   "version": "3.8.5"
  }
 },
 "nbformat": 4,
 "nbformat_minor": 4
}
