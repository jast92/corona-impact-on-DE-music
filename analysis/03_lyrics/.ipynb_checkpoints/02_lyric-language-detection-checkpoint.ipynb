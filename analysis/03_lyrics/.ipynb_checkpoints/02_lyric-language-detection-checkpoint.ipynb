{
 "cells": [
  {
   "cell_type": "code",
   "execution_count": 48,
   "metadata": {},
   "outputs": [],
   "source": [
    "import pandas as pd\n",
    "import numpy as np\n",
    "import re\n",
    "\n",
    "from tqdm import tqdm\n",
    "from langdetect import detect, DetectorFactory\n",
    "\n",
    "#pd.set_option('display.max_columns', None)\n",
    "#pd.set_option('display.max_rows', None)"
   ]
  },
  {
   "cell_type": "code",
   "execution_count": 3,
   "metadata": {},
   "outputs": [],
   "source": [
    "lyrical = pd.read_csv(\"../../files/csv/lyrics.csv\")"
   ]
  },
  {
   "cell_type": "code",
   "execution_count": 4,
   "metadata": {},
   "outputs": [],
   "source": [
    "lyrical = lyrical[['id', 'artist', 'title', 'year', 'lyrics']]"
   ]
  },
  {
   "cell_type": "code",
   "execution_count": 23,
   "metadata": {},
   "outputs": [
    {
     "name": "stderr",
     "output_type": "stream",
     "text": [
      "100%|██████████████████████████████████████████████████████████████████████████████| 1868/1868 [00:22<00:00, 81.68it/s]\n"
     ]
    }
   ],
   "source": [
    "lang = []\n",
    "\n",
    "for lyric in tqdm(lyrical['lyrics']):\n",
    "    try:\n",
    "        DetectorFactory.seed = 0\n",
    "        l = detect(lyric)\n",
    "    except:\n",
    "        l = np.nan\n",
    "    lang.append(l)"
   ]
  },
  {
   "cell_type": "code",
   "execution_count": 24,
   "metadata": {},
   "outputs": [],
   "source": [
    "lyrical['lang'] = lang"
   ]
  },
  {
   "cell_type": "code",
   "execution_count": 25,
   "metadata": {},
   "outputs": [
    {
     "data": {
      "text/plain": [
       "de    1104\n",
       "en     658\n",
       "es      18\n",
       "fr      16\n",
       "sq       8\n",
       "tr       6\n",
       "it       6\n",
       "nl       3\n",
       "ca       3\n",
       "id       2\n",
       "sw       2\n",
       "hr       2\n",
       "ro       1\n",
       "tl       1\n",
       "sv       1\n",
       "fa       1\n",
       "pl       1\n",
       "lv       1\n",
       "he       1\n",
       "Name: lang, dtype: int64"
      ]
     },
     "execution_count": 25,
     "metadata": {},
     "output_type": "execute_result"
    }
   ],
   "source": [
    "lyrical['lang'].value_counts()"
   ]
  },
  {
   "cell_type": "code",
   "execution_count": 44,
   "metadata": {},
   "outputs": [
    {
     "data": {
      "text/plain": [
       "3       The second someone mentioned you were all alon...\n",
       "4       If I hit it one time, I'ma pipe her\\nIf I hit ...\n",
       "5       Justin Timberlake - Filthy\\nKendrick Lamar & S...\n",
       "6       Drop top Porsche (Porsche), Rollie on my wrist...\n",
       "7       Hey, if you know what's good\\nIf you know what...\n",
       "                              ...                        \n",
       "1857    📝 Canciones 📝• 3rajean – Lokisimo\\n• 3rajean –...\n",
       "1862    Geenaro\\nSo, I'm going to Ghana\\n\\nDiamond-Cha...\n",
       "1865    T-T-Tay Keith, Took it to ten (Hey)\\n\\nAyy, it...\n",
       "1866    Jenny, darling, you're my best friend\\nBut the...\n",
       "1867    I'm dreaming of a white Christmas\\nJust like t...\n",
       "Name: lyrics, Length: 658, dtype: object"
      ]
     },
     "execution_count": 44,
     "metadata": {},
     "output_type": "execute_result"
    }
   ],
   "source": [
    "lyrical[(lyrical['lang'] == 'en')]['lyrics']"
   ]
  },
  {
   "cell_type": "code",
   "execution_count": 47,
   "metadata": {},
   "outputs": [],
   "source": [
    "lyrical.to_csv(\"../../files/csv/lyricsenhanced.csv\")"
   ]
  },
  {
   "cell_type": "code",
   "execution_count": null,
   "metadata": {},
   "outputs": [],
   "source": []
  }
 ],
 "metadata": {
  "kernelspec": {
   "display_name": "Python 3",
   "language": "python",
   "name": "python3"
  },
  "language_info": {
   "codemirror_mode": {
    "name": "ipython",
    "version": 3
   },
   "file_extension": ".py",
   "mimetype": "text/x-python",
   "name": "python",
   "nbconvert_exporter": "python",
   "pygments_lexer": "ipython3",
   "version": "3.8.3"
  }
 },
 "nbformat": 4,
 "nbformat_minor": 4
}
